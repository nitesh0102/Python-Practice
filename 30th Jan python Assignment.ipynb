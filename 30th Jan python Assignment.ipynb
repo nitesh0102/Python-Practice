{
 "cells": [
  {
   "cell_type": "code",
   "execution_count": 1,
   "id": "5a2e85e7-3639-4b43-93c5-ce911e1dd57c",
   "metadata": {},
   "outputs": [],
   "source": [
    "#Q1"
   ]
  },
  {
   "cell_type": "code",
   "execution_count": null,
   "id": "b10c8721-d0bf-4098-837e-f831ddea2771",
   "metadata": {},
   "outputs": [],
   "source": [
    "if(marks>90):\n",
    "    print(\"A\")"
   ]
  },
  {
   "cell_type": "code",
   "execution_count": 3,
   "id": "538eb4e7-ddc8-4825-89a0-f2209f7ad469",
   "metadata": {},
   "outputs": [],
   "source": [
    "#Q2"
   ]
  },
  {
   "cell_type": "code",
   "execution_count": null,
   "id": "3d1bb84e-b3dd-4dc4-8204-bff3ae6b3f0c",
   "metadata": {},
   "outputs": [],
   "source": [
    "if(cost>100000):\n",
    "    print(\"tax_amount 15%\")"
   ]
  },
  {
   "cell_type": "code",
   "execution_count": 4,
   "id": "ebbff683-8f9d-4c98-824f-e390fff07d55",
   "metadata": {},
   "outputs": [],
   "source": [
    "#Q3"
   ]
  },
  {
   "cell_type": "code",
   "execution_count": null,
   "id": "bcb01ca2-cbb3-4991-b41c-1c1ab88a6fdb",
   "metadata": {},
   "outputs": [],
   "source": [
    "if(city = \"jaipur\"):\n",
    "    print(\"jal mahal\")"
   ]
  },
  {
   "cell_type": "code",
   "execution_count": 6,
   "id": "653c1d83-070f-4416-9827-8f7448edbffc",
   "metadata": {},
   "outputs": [],
   "source": [
    "#Q4"
   ]
  },
  {
   "cell_type": "code",
   "execution_count": 29,
   "id": "b976a711-428e-41b8-ae64-94555bec498f",
   "metadata": {},
   "outputs": [
    {
     "name": "stdout",
     "output_type": "stream",
     "text": [
      "input your number\n"
     ]
    }
   ],
   "source": [
    "print(\"input your number\")\n",
    "def getcount():\n",
    "    \n",
    "    num = int(input())\n",
    "    counter = 0 \n",
    "    \n",
    "    while(num > 10): \n",
    "        print(num)\n",
    "        num = num/3\n",
    "        counter = counter + 1\n",
    "    return (counter)\n",
    "\n"
   ]
  },
  {
   "cell_type": "code",
   "execution_count": 32,
   "id": "a490484b-2fd3-450e-8897-4c5cb89e76b2",
   "metadata": {},
   "outputs": [
    {
     "name": "stdin",
     "output_type": "stream",
     "text": [
      " 31\n"
     ]
    },
    {
     "name": "stdout",
     "output_type": "stream",
     "text": [
      "31\n",
      "10.333333333333334\n"
     ]
    },
    {
     "data": {
      "text/plain": [
       "2"
      ]
     },
     "execution_count": 32,
     "metadata": {},
     "output_type": "execute_result"
    }
   ],
   "source": [
    "getcount()"
   ]
  },
  {
   "cell_type": "code",
   "execution_count": 33,
   "id": "79d2dcab-3cab-49c3-9db1-0ff6ec61e925",
   "metadata": {},
   "outputs": [],
   "source": [
    "#Q5"
   ]
  },
  {
   "cell_type": "code",
   "execution_count": 34,
   "id": "65a3b398-245a-44a7-a826-067bfe75c8ff",
   "metadata": {},
   "outputs": [],
   "source": [
    "# while loop is used when you iterate over the data with a condition. \n",
    "# for example you need odd numbers less than 50, the condition would be "
   ]
  },
  {
   "cell_type": "code",
   "execution_count": 35,
   "id": "266e1d1f-8ab6-40a8-a34e-b507657f2601",
   "metadata": {},
   "outputs": [],
   "source": [
    "#Q6"
   ]
  },
  {
   "cell_type": "code",
   "execution_count": 76,
   "id": "b66e2c24-9464-4fb1-86a3-a31be7396a98",
   "metadata": {},
   "outputs": [
    {
     "name": "stdout",
     "output_type": "stream",
     "text": [
      "*\n",
      "*\n",
      "*\n",
      "\n",
      "*\n",
      "*\n",
      "\n",
      "*\n",
      "*\n",
      "\n",
      "*\n",
      "*\n",
      "\n"
     ]
    }
   ],
   "source": [
    "i = 1\n",
    "j = 0\n",
    "while(i<5):\n",
    "    while(j<i+1):\n",
    "        print(\"*\")\n",
    "        j = j+1\n",
    "    i = i+1\n",
    "        "
   ]
  },
  {
   "cell_type": "code",
   "execution_count": 83,
   "id": "596de959-efc9-4028-aea3-d62640284dfe",
   "metadata": {},
   "outputs": [
    {
     "name": "stdout",
     "output_type": "stream",
     "text": [
      "*\n",
      "*\n",
      "*\n",
      "*\n",
      "*\n"
     ]
    }
   ],
   "source": [
    "i = 0 \n",
    "j = 5\n",
    "while(i<5):\n",
    "    while(j>i):\n",
    "        print(\"*\")\n",
    "    i = i+ 1\n",
    "              \n",
    "    "
   ]
  },
  {
   "cell_type": "code",
   "execution_count": 3,
   "id": "513bfa00-2ac5-4483-8882-8a8c42abbfde",
   "metadata": {},
   "outputs": [
    {
     "name": "stdout",
     "output_type": "stream",
     "text": [
      "<function testing at 0x0000029E65407D80>\n"
     ]
    }
   ],
   "source": [
    "@print\n",
    "def testing():\n",
    "  print('hello!!')\n",
    "  return 1000\n"
   ]
  },
  {
   "cell_type": "code",
   "execution_count": 11,
   "id": "77e00c2e-f427-4e38-bcea-11011fa749c9",
   "metadata": {},
   "outputs": [
    {
     "name": "stdout",
     "output_type": "stream",
     "text": [
      "[3, 4, 5]\n"
     ]
    }
   ],
   "source": [
    "a, b, *_ = [1, 2, 3, 4, 5]\n",
    "print(_)\n"
   ]
  },
  {
   "cell_type": "code",
   "execution_count": 12,
   "id": "b04e7906-4cbd-4cb7-9cc9-8e48310e9b7c",
   "metadata": {},
   "outputs": [
    {
     "ename": "SyntaxError",
     "evalue": "multiple starred expressions in assignment (2452090491.py, line 1)",
     "output_type": "error",
     "traceback": [
      "\u001b[1;36m  Cell \u001b[1;32mIn[12], line 1\u001b[1;36m\u001b[0m\n\u001b[1;33m    *__, a, b, *_ = [1, 2, 3, 4, 5, 6]\u001b[0m\n\u001b[1;37m    ^\u001b[0m\n\u001b[1;31mSyntaxError\u001b[0m\u001b[1;31m:\u001b[0m multiple starred expressions in assignment\n"
     ]
    }
   ],
   "source": [
    "*__, a, b, *_ = [1, 2, 3, 4, 5, 6]\n",
    "print(__, _)"
   ]
  },
  {
   "cell_type": "code",
   "execution_count": 13,
   "id": "317fb77a-2d39-4c04-80d2-3f9b1fb2ddd5",
   "metadata": {},
   "outputs": [
    {
     "ename": "SyntaxError",
     "evalue": "cannot assign to True (2943579786.py, line 1)",
     "output_type": "error",
     "traceback": [
      "\u001b[1;36m  Cell \u001b[1;32mIn[13], line 1\u001b[1;36m\u001b[0m\n\u001b[1;33m    True = False\u001b[0m\n\u001b[1;37m    ^\u001b[0m\n\u001b[1;31mSyntaxError\u001b[0m\u001b[1;31m:\u001b[0m cannot assign to True\n"
     ]
    }
   ],
   "source": [
    "True = False\n",
    "False = True\n",
    "\n",
    "print(not True, not False)"
   ]
  },
  {
   "cell_type": "code",
   "execution_count": null,
   "id": "18864ba0-ba50-4647-9756-3ca99da00cc1",
   "metadata": {},
   "outputs": [],
   "source": []
  }
 ],
 "metadata": {
  "kernelspec": {
   "display_name": "Python 3 (ipykernel)",
   "language": "python",
   "name": "python3"
  },
  "language_info": {
   "codemirror_mode": {
    "name": "ipython",
    "version": 3
   },
   "file_extension": ".py",
   "mimetype": "text/x-python",
   "name": "python",
   "nbconvert_exporter": "python",
   "pygments_lexer": "ipython3",
   "version": "3.11.7"
  }
 },
 "nbformat": 4,
 "nbformat_minor": 5
}
