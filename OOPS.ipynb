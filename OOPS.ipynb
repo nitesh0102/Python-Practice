{
 "cells": [
  {
   "cell_type": "markdown",
   "id": "7c721941-1a5f-405a-9de4-db87a4a65648",
   "metadata": {},
   "source": [
    "##OOPS stand for object oriented programming language. "
   ]
  },
  {
   "cell_type": "code",
   "execution_count": 1,
   "id": "dc17a6b4-1c9b-419a-b2c0-995e09e73634",
   "metadata": {},
   "outputs": [
    {
     "name": "stdout",
     "output_type": "stream",
     "text": [
      "<class 'int'>\n"
     ]
    }
   ],
   "source": [
    "a = 1\n",
    "print(type(a))"
   ]
  },
  {
   "cell_type": "code",
   "execution_count": 5,
   "id": "eb957742-9c63-4045-a206-915f1d74a727",
   "metadata": {},
   "outputs": [
    {
     "name": "stdout",
     "output_type": "stream",
     "text": [
      "<class 'tuple'>\n"
     ]
    }
   ],
   "source": [
    "print(type((\"pwskills\",\"dsjds\")))"
   ]
  },
  {
   "cell_type": "code",
   "execution_count": 6,
   "id": "7431ec9e-a129-44eb-b36f-e24daa9382f3",
   "metadata": {},
   "outputs": [],
   "source": [
    "# what is a class"
   ]
  },
  {
   "cell_type": "code",
   "execution_count": 7,
   "id": "e7638dd8-0bd3-416a-9d6f-1567bcdd179c",
   "metadata": {},
   "outputs": [],
   "source": [
    "# class is a blueprint/classification for a object "
   ]
  },
  {
   "cell_type": "code",
   "execution_count": 8,
   "id": "1ada33f8-dbc3-4b67-9c7f-653a06863dc4",
   "metadata": {},
   "outputs": [],
   "source": [
    "# Ex: Car of orange color 2023 model\n",
    "# so car is a class which create a image in your mind of 4 wheels moving object "
   ]
  },
  {
   "cell_type": "code",
   "execution_count": 10,
   "id": "075ec412-8578-493e-9e86-13e9ce441fc7",
   "metadata": {},
   "outputs": [],
   "source": [
    "#human is a class but i don't know if i am talking about a boy or a girl, asian or american "
   ]
  },
  {
   "cell_type": "markdown",
   "id": "c99c5197-19dd-422d-96ec-975c08f1aed3",
   "metadata": {},
   "source": [
    "\n",
    "## Why we need a class"
   ]
  },
  {
   "cell_type": "code",
   "execution_count": 14,
   "id": "463c031f-e148-4a90-9771-e81a67340483",
   "metadata": {},
   "outputs": [],
   "source": [
    "# we can create differnt modules for backend, frontend, Database connectivity ML etc. "
   ]
  },
  {
   "cell_type": "code",
   "execution_count": 15,
   "id": "5b5bdb39-aa77-43d9-8d91-3f0426c0ce91",
   "metadata": {},
   "outputs": [],
   "source": [
    "# easy clean and readble module coding require OOPS"
   ]
  },
  {
   "cell_type": "code",
   "execution_count": 16,
   "id": "1d9425d8-37a5-4e84-af14-a12f37be17b8",
   "metadata": {},
   "outputs": [],
   "source": [
    "# more structured approach for diff task "
   ]
  },
  {
   "cell_type": "markdown",
   "id": "c9afefa3-9d0f-4fad-b06e-a44d82ee5355",
   "metadata": {},
   "source": [
    "########################################"
   ]
  },
  {
   "cell_type": "code",
   "execution_count": 18,
   "id": "3ecc247f-b4ba-411b-801d-ab6ef7088abd",
   "metadata": {},
   "outputs": [
    {
     "ename": "SyntaxError",
     "evalue": "incomplete input (3527747674.py, line 1)",
     "output_type": "error",
     "traceback": [
      "\u001b[1;36m  Cell \u001b[1;32mIn[18], line 1\u001b[1;36m\u001b[0m\n\u001b[1;33m    class test:\u001b[0m\n\u001b[1;37m               ^\u001b[0m\n\u001b[1;31mSyntaxError\u001b[0m\u001b[1;31m:\u001b[0m incomplete input\n"
     ]
    }
   ],
   "source": [
    "class test:"
   ]
  },
  {
   "cell_type": "code",
   "execution_count": 19,
   "id": "b33a59a8-5920-42a3-92d0-c98e9cf22271",
   "metadata": {},
   "outputs": [],
   "source": [
    "class test:\n",
    "    pass"
   ]
  },
  {
   "cell_type": "code",
   "execution_count": 20,
   "id": "a0691df6-022a-4ebb-b837-e79b10b27f06",
   "metadata": {},
   "outputs": [],
   "source": [
    "a = test()"
   ]
  },
  {
   "cell_type": "code",
   "execution_count": 21,
   "id": "c3958ed5-ec22-49ea-ade0-fdf31e01a801",
   "metadata": {},
   "outputs": [
    {
     "data": {
      "text/plain": [
       "__main__.test"
      ]
     },
     "execution_count": 21,
     "metadata": {},
     "output_type": "execute_result"
    }
   ],
   "source": [
    "type(a)"
   ]
  },
  {
   "cell_type": "code",
   "execution_count": 22,
   "id": "716b6f20-869d-4a7e-946d-50232c424388",
   "metadata": {},
   "outputs": [],
   "source": [
    "# a variable belongs to class test \n",
    "# a is an object of class test "
   ]
  },
  {
   "cell_type": "code",
   "execution_count": 23,
   "id": "ce40e902-f640-4a71-ae3a-37e27ba5eca6",
   "metadata": {},
   "outputs": [],
   "source": [
    "class pwskills:\n",
    "\n",
    "    def welcome_msg():\n",
    "        print(\"welcome to pwskills\")"
   ]
  },
  {
   "cell_type": "code",
   "execution_count": 25,
   "id": "bba8e07d-1f13-4d05-a28e-d61b7095f9fb",
   "metadata": {},
   "outputs": [],
   "source": [
    "rohan = pwskills()"
   ]
  },
  {
   "cell_type": "code",
   "execution_count": 26,
   "id": "f6889f6b-48c2-41d6-8366-a21467a74cd7",
   "metadata": {},
   "outputs": [
    {
     "ename": "TypeError",
     "evalue": "pwskills.welcome_msg() takes 0 positional arguments but 1 was given",
     "output_type": "error",
     "traceback": [
      "\u001b[1;31m---------------------------------------------------------------------------\u001b[0m",
      "\u001b[1;31mTypeError\u001b[0m                                 Traceback (most recent call last)",
      "Cell \u001b[1;32mIn[26], line 1\u001b[0m\n\u001b[1;32m----> 1\u001b[0m rohan\u001b[38;5;241m.\u001b[39mwelcome_msg()\n",
      "\u001b[1;31mTypeError\u001b[0m: pwskills.welcome_msg() takes 0 positional arguments but 1 was given"
     ]
    }
   ],
   "source": [
    "rohan.welcome_msg()"
   ]
  },
  {
   "cell_type": "code",
   "execution_count": 27,
   "id": "2dc64ea4-0877-496f-8b8d-2d197876f95c",
   "metadata": {},
   "outputs": [
    {
     "data": {
      "text/plain": [
       "'why this error because we have not given any reference to the method and hence it was not binded, always have to give a reference to a \\nmethod for a class.'"
      ]
     },
     "execution_count": 27,
     "metadata": {},
     "output_type": "execute_result"
    }
   ],
   "source": [
    "\"\"\"why this error because we have not given any reference to the method and hence it was not binded, always have to give a reference to a \n",
    "method for a class.\"\"\""
   ]
  },
  {
   "cell_type": "code",
   "execution_count": 28,
   "id": "ed0d75ce-5c57-4712-868c-266423bf1a5c",
   "metadata": {},
   "outputs": [],
   "source": [
    "class pwskills:\n",
    "\n",
    "    def welcome_msg(self):\n",
    "        print(\"welcome to pwskills\")"
   ]
  },
  {
   "cell_type": "code",
   "execution_count": 31,
   "id": "f6298489-74bc-409e-bea2-28eff59454e6",
   "metadata": {},
   "outputs": [],
   "source": [
    "rohan = pwskills()"
   ]
  },
  {
   "cell_type": "code",
   "execution_count": 32,
   "id": "b30e2e96-e8f8-4c94-bd3f-91fea505c394",
   "metadata": {},
   "outputs": [
    {
     "name": "stdout",
     "output_type": "stream",
     "text": [
      "welcome to pwskills\n"
     ]
    }
   ],
   "source": [
    "rohan.welcome_msg()"
   ]
  },
  {
   "cell_type": "code",
   "execution_count": 33,
   "id": "b48ed929-7cbd-42e4-a559-bb7d94ed246e",
   "metadata": {},
   "outputs": [],
   "source": [
    "# It is not mandatory to give \"\"\" SELF \"\"\" a reference. anything will work like a,b,dsdsf,sdafds etc."
   ]
  },
  {
   "cell_type": "code",
   "execution_count": 34,
   "id": "b2007ee0-4737-40a4-8c79-c17192465798",
   "metadata": {},
   "outputs": [
    {
     "ename": "NameError",
     "evalue": "name 'sohan' is not defined",
     "output_type": "error",
     "traceback": [
      "\u001b[1;31m---------------------------------------------------------------------------\u001b[0m",
      "\u001b[1;31mNameError\u001b[0m                                 Traceback (most recent call last)",
      "Cell \u001b[1;32mIn[34], line 1\u001b[0m\n\u001b[1;32m----> 1\u001b[0m sohan\u001b[38;5;241m.\u001b[39mwelcome_msg\n",
      "\u001b[1;31mNameError\u001b[0m: name 'sohan' is not defined"
     ]
    }
   ],
   "source": [
    "sohan.welcome_msg"
   ]
  },
  {
   "cell_type": "code",
   "execution_count": 35,
   "id": "62431635-e075-4385-82b3-14da014f5419",
   "metadata": {},
   "outputs": [],
   "source": [
    "sohan = pwskills()"
   ]
  },
  {
   "cell_type": "code",
   "execution_count": 36,
   "id": "acb55a39-a2fe-498b-876c-05439e9008e7",
   "metadata": {},
   "outputs": [
    {
     "name": "stdout",
     "output_type": "stream",
     "text": [
      "welcome to pwskills\n"
     ]
    }
   ],
   "source": [
    "sohan.welcome_msg()"
   ]
  },
  {
   "cell_type": "code",
   "execution_count": 37,
   "id": "f9812e0b-3977-41a4-8616-908a8edffa29",
   "metadata": {},
   "outputs": [],
   "source": [
    "a = 1"
   ]
  },
  {
   "cell_type": "code",
   "execution_count": 38,
   "id": "b5a68155-2c51-4426-b616-b4723d6fc211",
   "metadata": {},
   "outputs": [],
   "source": [
    "b = 2"
   ]
  },
  {
   "cell_type": "code",
   "execution_count": 39,
   "id": "8ffd4a13-5a3d-47ca-b393-28eaa687e985",
   "metadata": {},
   "outputs": [
    {
     "data": {
      "text/plain": [
       "1"
      ]
     },
     "execution_count": 39,
     "metadata": {},
     "output_type": "execute_result"
    }
   ],
   "source": [
    "a"
   ]
  },
  {
   "cell_type": "code",
   "execution_count": 40,
   "id": "3f38611d-d826-4095-a9ae-c6dc4f8ebdae",
   "metadata": {},
   "outputs": [
    {
     "data": {
      "text/plain": [
       "2"
      ]
     },
     "execution_count": 40,
     "metadata": {},
     "output_type": "execute_result"
    }
   ],
   "source": [
    "b"
   ]
  },
  {
   "cell_type": "code",
   "execution_count": 41,
   "id": "7ee6c85b-32cf-478a-bd3f-bcc66f0d1bf1",
   "metadata": {},
   "outputs": [],
   "source": [
    "# so how to create a class which take diff-diff data for diff-diff class variable like integer class does"
   ]
  },
  {
   "cell_type": "code",
   "execution_count": 42,
   "id": "81451f26-c6e3-489a-b66c-05a411718b71",
   "metadata": {},
   "outputs": [],
   "source": [
    "# it can be done using constructor"
   ]
  },
  {
   "cell_type": "code",
   "execution_count": 43,
   "id": "43a9721b-1566-4768-b99a-f537e76654bb",
   "metadata": {},
   "outputs": [],
   "source": [
    "#constructor helps a class take data"
   ]
  },
  {
   "cell_type": "code",
   "execution_count": 44,
   "id": "410ecb74-8d18-478c-8624-09b3fa104317",
   "metadata": {},
   "outputs": [
    {
     "data": {
      "text/plain": [
       "'   __init__ '"
      ]
     },
     "execution_count": 44,
     "metadata": {},
     "output_type": "execute_result"
    }
   ],
   "source": [
    "\"\"\"   __init__ \"\"\" \n",
    "\n",
    "# init is a constructor "
   ]
  },
  {
   "cell_type": "code",
   "execution_count": 45,
   "id": "245ccbcc-c6a9-4ae6-9115-90b3ca0ee2aa",
   "metadata": {},
   "outputs": [],
   "source": [
    "class pwskills:\n",
    "\n",
    "    def __init__(self, phone_number,email_id,student_id):\n",
    "        self.phone_number = phone_number\n",
    "        self.email_id = email_id\n",
    "        self.student_id = student_id\n",
    "\n",
    "\n",
    "    def return_student_details(self):\n",
    "        return self.phone_number,self.email_id, self.student_id"
   ]
  },
  {
   "cell_type": "code",
   "execution_count": 47,
   "id": "22e1f1a6-ebf6-4b26-b16b-593527ad050d",
   "metadata": {},
   "outputs": [],
   "source": [
    "rohan = pwskills(28727382,\"rohan@gmail.com\",787687)"
   ]
  },
  {
   "cell_type": "code",
   "execution_count": 48,
   "id": "e13d349f-174e-43d5-9352-b22cb48b6836",
   "metadata": {},
   "outputs": [
    {
     "data": {
      "text/plain": [
       "(28727382, 'rohan@gmail.com', 787687)"
      ]
     },
     "execution_count": 48,
     "metadata": {},
     "output_type": "execute_result"
    }
   ],
   "source": [
    "rohan.return_student_details()"
   ]
  },
  {
   "cell_type": "code",
   "execution_count": 49,
   "id": "b221ed06-5305-4329-9b0e-6201350f65b9",
   "metadata": {},
   "outputs": [],
   "source": [
    "# class variable, object , instance"
   ]
  },
  {
   "cell_type": "code",
   "execution_count": 53,
   "id": "79f25ffc-2706-45f3-b068-d1f584450f40",
   "metadata": {},
   "outputs": [
    {
     "data": {
      "text/plain": [
       "28727382"
      ]
     },
     "execution_count": 53,
     "metadata": {},
     "output_type": "execute_result"
    }
   ],
   "source": [
    "rohan.phone_number"
   ]
  },
  {
   "cell_type": "code",
   "execution_count": 55,
   "id": "b3650ff3-afc4-4166-983d-20ccd86367b7",
   "metadata": {},
   "outputs": [],
   "source": [
    "class pwskills2:\n",
    "\n",
    "    def __init__(a, phone_number,email_id,student_id):\n",
    "        a.phone_number = phone_number\n",
    "        a.email_id = email_id\n",
    "        a.student_id = student_id\n",
    "\n",
    "\n",
    "    def return_student_details(a):\n",
    "        return a.phone_number,a.email_id, a.student_id"
   ]
  },
  {
   "cell_type": "code",
   "execution_count": 56,
   "id": "447af03b-4ba0-4e67-bba5-74637f48ae9d",
   "metadata": {},
   "outputs": [],
   "source": [
    "mohan = pwskills2(32323,\"dfj@gmail.com\",232)\n"
   ]
  },
  {
   "cell_type": "code",
   "execution_count": 57,
   "id": "900a7b78-53e8-4c08-904d-1664d43ac149",
   "metadata": {},
   "outputs": [
    {
     "data": {
      "text/plain": [
       "32323"
      ]
     },
     "execution_count": 57,
     "metadata": {},
     "output_type": "execute_result"
    }
   ],
   "source": [
    "mohan.phone_number"
   ]
  },
  {
   "cell_type": "code",
   "execution_count": 59,
   "id": "0573a760-c5d2-4895-b479-bdadc07e1d1c",
   "metadata": {},
   "outputs": [
    {
     "data": {
      "text/plain": [
       "(32323, 'dfj@gmail.com', 232)"
      ]
     },
     "execution_count": 59,
     "metadata": {},
     "output_type": "execute_result"
    }
   ],
   "source": [
    "mohan.return_student_details()"
   ]
  },
  {
   "cell_type": "code",
   "execution_count": 60,
   "id": "5c27ef20-6f6d-47ec-88ab-4f8ff67d2cc4",
   "metadata": {},
   "outputs": [],
   "source": [
    "#self is not compulsory but take something so the class can bind the method"
   ]
  },
  {
   "cell_type": "code",
   "execution_count": null,
   "id": "224ee080-115c-45f0-b95b-0d6a6dd39843",
   "metadata": {},
   "outputs": [],
   "source": []
  }
 ],
 "metadata": {
  "kernelspec": {
   "display_name": "Python 3 (ipykernel)",
   "language": "python",
   "name": "python3"
  },
  "language_info": {
   "codemirror_mode": {
    "name": "ipython",
    "version": 3
   },
   "file_extension": ".py",
   "mimetype": "text/x-python",
   "name": "python",
   "nbconvert_exporter": "python",
   "pygments_lexer": "ipython3",
   "version": "3.11.7"
  }
 },
 "nbformat": 4,
 "nbformat_minor": 5
}
