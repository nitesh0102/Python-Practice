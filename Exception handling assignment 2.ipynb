{
 "cells": [
  {
   "cell_type": "code",
   "execution_count": 1,
   "id": "01562a33-67ae-482c-9e70-5d16fbba8808",
   "metadata": {},
   "outputs": [],
   "source": [
    "### Q1"
   ]
  },
  {
   "cell_type": "markdown",
   "id": "eaa323b8-3f98-44a9-8870-e68f7e24da6d",
   "metadata": {},
   "source": [
    "Custom exceptions are helpful in many situations.\n",
    "They allow you to define your own error conditions and handle them in a more specific and meaningful way. \n",
    "For example, let's say you are writing a program that reads data from a file. If the file is not found, Python will raise a FileNotFoundError "
   ]
  },
  {
   "cell_type": "code",
   "execution_count": 2,
   "id": "3eed00ab-05df-41e3-94cf-ea6eeef1f5d9",
   "metadata": {},
   "outputs": [],
   "source": [
    "## Q2"
   ]
  },
  {
   "cell_type": "markdown",
   "id": "b0610042-50ce-4d7b-bc1d-a8cc4ad60fd1",
   "metadata": {},
   "source": [
    "Python Exception Hierarchy"
   ]
  },
  {
   "cell_type": "code",
   "execution_count": 3,
   "id": "f1f8cb7d-a625-454c-a879-2529844392d4",
   "metadata": {},
   "outputs": [],
   "source": [
    "## Q3 "
   ]
  },
  {
   "cell_type": "markdown",
   "id": "9ad30ff4-063e-4828-8a49-1b7e78f83510",
   "metadata": {},
   "source": [
    "ArithmeticError Class - ZeroDivisionError and OverflowError."
   ]
  },
  {
   "cell_type": "code",
   "execution_count": 5,
   "id": "68f2d837-bd34-4301-bef7-ed51c26731cd",
   "metadata": {},
   "outputs": [],
   "source": [
    "## Q4"
   ]
  },
  {
   "cell_type": "markdown",
   "id": "7d324f2c-9249-4338-a1ac-6a0fd5d6c8de",
   "metadata": {},
   "source": [
    "LookUpError Class - LookupError Exception is the Base class for errors raised when something can't be found."
   ]
  },
  {
   "cell_type": "code",
   "execution_count": 6,
   "id": "ad3024b5-fdd0-49d3-85fa-efb00334081d",
   "metadata": {},
   "outputs": [],
   "source": [
    "## Q5"
   ]
  },
  {
   "cell_type": "markdown",
   "id": "0361cef9-6f92-4247-8fe0-16d4d7e06109",
   "metadata": {},
   "source": [
    "As the name implies, this error occurs when you're trying to access or use a module that cannot be found. "
   ]
  },
  {
   "cell_type": "code",
   "execution_count": 7,
   "id": "0ad8a591-3ebf-4b17-a8b7-5530d27ce471",
   "metadata": {},
   "outputs": [],
   "source": [
    "##Q6"
   ]
  },
  {
   "cell_type": "code",
   "execution_count": null,
   "id": "72495238-ec67-4929-bf42-ded25b157629",
   "metadata": {},
   "outputs": [],
   "source": [
    "1. Use Specific Error Class\n",
    "2. Write proper message\n",
    "3. always complete the task Ex: Close the open file etc\n",
    "4. "
   ]
  }
 ],
 "metadata": {
  "kernelspec": {
   "display_name": "Python 3 (ipykernel)",
   "language": "python",
   "name": "python3"
  },
  "language_info": {
   "codemirror_mode": {
    "name": "ipython",
    "version": 3
   },
   "file_extension": ".py",
   "mimetype": "text/x-python",
   "name": "python",
   "nbconvert_exporter": "python",
   "pygments_lexer": "ipython3",
   "version": "3.11.7"
  }
 },
 "nbformat": 4,
 "nbformat_minor": 5
}
