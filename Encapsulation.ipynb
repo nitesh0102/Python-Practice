{
 "cells": [
  {
   "cell_type": "markdown",
   "id": "e52201a5-0ae3-4e8d-a433-76e1ceb029ed",
   "metadata": {},
   "source": [
    "##Encapsulation "
   ]
  },
  {
   "cell_type": "code",
   "execution_count": 4,
   "id": "be8e6423-3b3c-409d-b239-5a38a78c134e",
   "metadata": {},
   "outputs": [
    {
     "data": {
      "text/plain": [
       "'Encapsulation is a techqnique to safeguard the code. \\nIt helps in avoiding user interference with objects. public user cannot change or alter the values of any object. '"
      ]
     },
     "execution_count": 4,
     "metadata": {},
     "output_type": "execute_result"
    }
   ],
   "source": [
    "\"\"\"Encapsulation is a techqnique to safeguard the code. \n",
    "It helps in avoiding user interference with objects. public user cannot change or alter the values of any object. \"\"\""
   ]
  },
  {
   "cell_type": "code",
   "execution_count": null,
   "id": "b02a8fb5-39c9-414d-a13e-fc5ec9021dec",
   "metadata": {},
   "outputs": [],
   "source": [
    "#hiding the entire implementation and not giving access to the user and showcasing it to user. "
   ]
  },
  {
   "cell_type": "code",
   "execution_count": 79,
   "id": "067d44d9-dfab-43bb-9637-8b590eb27059",
   "metadata": {},
   "outputs": [],
   "source": [
    "class car:\n",
    "    def  __init__(self, year,make,model,speed):\n",
    "        self.__year = year\n",
    "        self.__make = make\n",
    "        self.__model = model\n",
    "        self.__speed = 0\n",
    "    def set_speed(self, speed):\n",
    "        self.__speed =  speed\n",
    "    def get_speed(self,speed):\n",
    "        return self._speed"
   ]
  },
  {
   "cell_type": "code",
   "execution_count": 80,
   "id": "fb0c3ed2-4dfd-400e-b1bc-f1b0dd61abc0",
   "metadata": {},
   "outputs": [],
   "source": [
    "# \"__\"  serves as a lock "
   ]
  },
  {
   "cell_type": "code",
   "execution_count": 87,
   "id": "b8bcc6a1-7f00-4142-b14b-82be8af03b54",
   "metadata": {},
   "outputs": [],
   "source": [
    "obj_car = car(2021,\"toyota\", \"innova\",100)"
   ]
  },
  {
   "cell_type": "code",
   "execution_count": 84,
   "id": "35cbfc5d-6eaf-49d5-a7b8-84117615e8e6",
   "metadata": {},
   "outputs": [
    {
     "data": {
      "text/plain": [
       "0"
      ]
     },
     "execution_count": 84,
     "metadata": {},
     "output_type": "execute_result"
    }
   ],
   "source": [
    "obj_car._car__speed"
   ]
  },
  {
   "cell_type": "code",
   "execution_count": 85,
   "id": "312b81fb-beef-44f6-b210-52450597f785",
   "metadata": {},
   "outputs": [],
   "source": [
    "obj_car._car__year = 2023"
   ]
  },
  {
   "cell_type": "code",
   "execution_count": 88,
   "id": "7b57b23f-31c7-498f-abb4-13e5912d9ee1",
   "metadata": {},
   "outputs": [
    {
     "data": {
      "text/plain": [
       "2021"
      ]
     },
     "execution_count": 88,
     "metadata": {},
     "output_type": "execute_result"
    }
   ],
   "source": [
    "obj_car._car__year"
   ]
  },
  {
   "cell_type": "code",
   "execution_count": 89,
   "id": "6cafdae1-abbf-4af4-a341-109d706a24fe",
   "metadata": {},
   "outputs": [],
   "source": [
    "set_speed = 202"
   ]
  },
  {
   "cell_type": "code",
   "execution_count": 97,
   "id": "40814693-d760-4a13-903b-d0bd5a8b8e0f",
   "metadata": {},
   "outputs": [],
   "source": [
    "obj_car.set_speed(1032)"
   ]
  },
  {
   "cell_type": "code",
   "execution_count": 96,
   "id": "76f61695-77d1-48f0-b7e3-fbb8e800246a",
   "metadata": {},
   "outputs": [
    {
     "data": {
      "text/plain": [
       "1032"
      ]
     },
     "execution_count": 96,
     "metadata": {},
     "output_type": "execute_result"
    }
   ],
   "source": [
    "obj_car._car__speed"
   ]
  },
  {
   "cell_type": "code",
   "execution_count": 3,
   "id": "588b4c0a-aac7-485e-af7c-7f2fba907b07",
   "metadata": {},
   "outputs": [
    {
     "ename": "NameError",
     "evalue": "name 'obj_car' is not defined",
     "output_type": "error",
     "traceback": [
      "\u001b[1;31m---------------------------------------------------------------------------\u001b[0m",
      "\u001b[1;31mNameError\u001b[0m                                 Traceback (most recent call last)",
      "Cell \u001b[1;32mIn[3], line 1\u001b[0m\n\u001b[1;32m----> 1\u001b[0m obj_car\n",
      "\u001b[1;31mNameError\u001b[0m: name 'obj_car' is not defined"
     ]
    }
   ],
   "source": [
    "obj_car"
   ]
  },
  {
   "cell_type": "code",
   "execution_count": 44,
   "id": "196c711d-54da-47ea-953c-6765100e37e3",
   "metadata": {},
   "outputs": [
    {
     "ename": "TypeError",
     "evalue": "car.get_speed() missing 1 required positional argument: 'speed'",
     "output_type": "error",
     "traceback": [
      "\u001b[1;31m---------------------------------------------------------------------------\u001b[0m",
      "\u001b[1;31mTypeError\u001b[0m                                 Traceback (most recent call last)",
      "Cell \u001b[1;32mIn[44], line 1\u001b[0m\n\u001b[1;32m----> 1\u001b[0m obj_car\u001b[38;5;241m.\u001b[39mget_speed()\n",
      "\u001b[1;31mTypeError\u001b[0m: car.get_speed() missing 1 required positional argument: 'speed'"
     ]
    }
   ],
   "source": [
    "obj_car.get_speed()"
   ]
  },
  {
   "cell_type": "code",
   "execution_count": null,
   "id": "1d118e3b-ca5f-4ba5-aab1-2a7da7fce6cf",
   "metadata": {},
   "outputs": [],
   "source": []
  },
  {
   "cell_type": "code",
   "execution_count": 46,
   "id": "bd9cccd6-25ea-4f04-849c-34bdf9c029d0",
   "metadata": {},
   "outputs": [],
   "source": [
    "##############"
   ]
  },
  {
   "cell_type": "code",
   "execution_count": 113,
   "id": "3a9ad036-0003-4411-b40d-5f2d9cc5b11f",
   "metadata": {},
   "outputs": [],
   "source": [
    "class bank_account():\n",
    "\n",
    "    def __init__(self,balance):\n",
    "        self.__balance = balance\n",
    "    def deposit(self,amount):\n",
    "        self.__balance = self.__balance + amount \n",
    "    def withdraw(self,amount):\n",
    "        if self.__balance >= amount:\n",
    "            self.__balance = self.__balance - amount\n",
    "            return True\n",
    "        else:\n",
    "            return False\n",
    "    def get_balance(self):\n",
    "        return self.__balance"
   ]
  },
  {
   "cell_type": "code",
   "execution_count": 118,
   "id": "43219415-b3a8-4e88-94ca-34a4d47782d0",
   "metadata": {},
   "outputs": [],
   "source": [
    "obj_trx = bank_account(1000)"
   ]
  },
  {
   "cell_type": "code",
   "execution_count": 72,
   "id": "975d5c04-2b1d-4ce3-bc67-66a3494676fb",
   "metadata": {},
   "outputs": [],
   "source": [
    "obj_trx.deposit = 300"
   ]
  },
  {
   "cell_type": "code",
   "execution_count": 120,
   "id": "1f351e6a-0af3-44a3-a320-9a4d2d1096d4",
   "metadata": {},
   "outputs": [
    {
     "ename": "AttributeError",
     "evalue": "'bank_account' object has no attribute '_bankaccount__balance'",
     "output_type": "error",
     "traceback": [
      "\u001b[1;31m---------------------------------------------------------------------------\u001b[0m",
      "\u001b[1;31mAttributeError\u001b[0m                            Traceback (most recent call last)",
      "Cell \u001b[1;32mIn[120], line 1\u001b[0m\n\u001b[1;32m----> 1\u001b[0m obj_trx\u001b[38;5;241m.\u001b[39m_bankaccount__balance\n",
      "\u001b[1;31mAttributeError\u001b[0m: 'bank_account' object has no attribute '_bankaccount__balance'"
     ]
    }
   ],
   "source": [
    "obj_trx._bankaccount__balance"
   ]
  },
  {
   "cell_type": "code",
   "execution_count": 106,
   "id": "870e5417-5917-4f82-aea1-eb72e7517cb3",
   "metadata": {},
   "outputs": [],
   "source": [
    "obj_trx.deposit(300)"
   ]
  },
  {
   "cell_type": "code",
   "execution_count": 56,
   "id": "90f3e556-1374-4bfc-955b-171587382f3e",
   "metadata": {},
   "outputs": [],
   "source": [
    "# you ( Public User ) will only be able to see the methods"
   ]
  },
  {
   "cell_type": "code",
   "execution_count": 115,
   "id": "91092629-4024-446b-9004-33a4a8eef973",
   "metadata": {},
   "outputs": [
    {
     "data": {
      "text/plain": [
       "1000"
      ]
     },
     "execution_count": 115,
     "metadata": {},
     "output_type": "execute_result"
    }
   ],
   "source": [
    "obj_trx.get_balance()"
   ]
  },
  {
   "cell_type": "code",
   "execution_count": 116,
   "id": "a61b2ca3-e2e1-476b-a588-8b8df09d76ad",
   "metadata": {},
   "outputs": [
    {
     "data": {
      "text/plain": [
       "True"
      ]
     },
     "execution_count": 116,
     "metadata": {},
     "output_type": "execute_result"
    }
   ],
   "source": [
    "obj_trx.withdraw(1000)"
   ]
  },
  {
   "cell_type": "code",
   "execution_count": null,
   "id": "557594d3-d1db-401c-9900-002f3fb36872",
   "metadata": {},
   "outputs": [],
   "source": []
  }
 ],
 "metadata": {
  "kernelspec": {
   "display_name": "Python 3 (ipykernel)",
   "language": "python",
   "name": "python3"
  },
  "language_info": {
   "codemirror_mode": {
    "name": "ipython",
    "version": 3
   },
   "file_extension": ".py",
   "mimetype": "text/x-python",
   "name": "python",
   "nbconvert_exporter": "python",
   "pygments_lexer": "ipython3",
   "version": "3.11.7"
  }
 },
 "nbformat": 4,
 "nbformat_minor": 5
}
