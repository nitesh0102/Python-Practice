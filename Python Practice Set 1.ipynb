{
 "cells": [
  {
   "cell_type": "code",
   "execution_count": 1,
   "id": "2c51a865-f377-4544-9260-c395d7380c2b",
   "metadata": {},
   "outputs": [],
   "source": [
    "#Q1 "
   ]
  },
  {
   "cell_type": "code",
   "execution_count": 29,
   "id": "2e08dfc8-754c-4c90-92c0-c22601a0d774",
   "metadata": {},
   "outputs": [],
   "source": [
    "def zdd_numbers(z,b): \n",
    "    c = z+b\n",
    "    print(\"sum is:\", c)\n",
    "    return c \n",
    "    "
   ]
  },
  {
   "cell_type": "code",
   "execution_count": 31,
   "id": "c0790d20-e267-4f7d-ab3d-cc1c75da746d",
   "metadata": {},
   "outputs": [
    {
     "name": "stdout",
     "output_type": "stream",
     "text": [
      "sum is: 11\n"
     ]
    },
    {
     "data": {
      "text/plain": [
       "11"
      ]
     },
     "execution_count": 31,
     "metadata": {},
     "output_type": "execute_result"
    }
   ],
   "source": [
    "zdd_numbers(5,6)"
   ]
  },
  {
   "cell_type": "code",
   "execution_count": 35,
   "id": "71527678-69df-4de9-b905-effbfa2f692b",
   "metadata": {},
   "outputs": [],
   "source": [
    "#Q2"
   ]
  },
  {
   "cell_type": "code",
   "execution_count": 36,
   "id": "c859a465-6937-4646-a7c9-9ffdb21ee452",
   "metadata": {},
   "outputs": [],
   "source": [
    "import mzth zs mt"
   ]
  },
  {
   "cell_type": "code",
   "execution_count": 43,
   "id": "c110f62b-2c88-49a3-8a7d-eb139d2ba559",
   "metadata": {},
   "outputs": [],
   "source": [
    "def sqrt():\n",
    "    print(\"plezse enter z number for which you wznt squzre root for\")\n",
    "    z = flozt(input())\n",
    "    sqrt = mt.sqrt(z)\n",
    "    return sqrt"
   ]
  },
  {
   "cell_type": "code",
   "execution_count": 44,
   "id": "5d6ce35c-b102-4b17-9755-77bcb362486a",
   "metadata": {},
   "outputs": [
    {
     "name": "stdout",
     "output_type": "stream",
     "text": [
      "please enter a number for which you want square root for\n"
     ]
    },
    {
     "name": "stdin",
     "output_type": "stream",
     "text": [
      " 36\n"
     ]
    },
    {
     "data": {
      "text/plain": [
       "6.0"
      ]
     },
     "execution_count": 44,
     "metadata": {},
     "output_type": "execute_result"
    }
   ],
   "source": [
    "sqrt()"
   ]
  },
  {
   "cell_type": "code",
   "execution_count": 45,
   "id": "286939e5-23ed-49cb-8d1e-b3440835b2ba",
   "metadata": {},
   "outputs": [],
   "source": [
    "# Q3\n"
   ]
  },
  {
   "cell_type": "code",
   "execution_count": null,
   "id": "a7ef5406-5b19-4ea1-95b5-c6ca261b78e1",
   "metadata": {},
   "outputs": [],
   "source": []
  },
  {
   "cell_type": "code",
   "execution_count": 46,
   "id": "6773761f-ffea-4baf-ada2-8af9c4b4543c",
   "metadata": {},
   "outputs": [],
   "source": [
    "#Q4"
   ]
  },
  {
   "cell_type": "code",
   "execution_count": 68,
   "id": "45cdcae1-a785-4e02-815e-da3b3502947d",
   "metadata": {},
   "outputs": [
    {
     "name": "stdout",
     "output_type": "stream",
     "text": [
      "5 8 9\n"
     ]
    }
   ],
   "source": [
    "z = 5\n",
    "b = 8 \n",
    "c = 9\n",
    "print(z,b,c)"
   ]
  },
  {
   "cell_type": "code",
   "execution_count": 69,
   "id": "96774871-2316-4b24-ab0d-ac0af6c44577",
   "metadata": {},
   "outputs": [],
   "source": [
    "c = z+b+c\n",
    "b = z+b\n",
    "z = b - z \n",
    "b = c- b\n",
    "c = c - z-b"
   ]
  },
  {
   "cell_type": "code",
   "execution_count": 71,
   "id": "8723d4c2-1892-45fe-a503-4db774c82c3f",
   "metadata": {},
   "outputs": [
    {
     "name": "stdout",
     "output_type": "stream",
     "text": [
      "8 9 5\n"
     ]
    }
   ],
   "source": [
    "print(z,b,c)\n"
   ]
  },
  {
   "cell_type": "code",
   "execution_count": 72,
   "id": "c3f196f8-e45a-4165-91f2-c2b2835900c2",
   "metadata": {},
   "outputs": [],
   "source": [
    "#Q5"
   ]
  },
  {
   "cell_type": "code",
   "execution_count": 81,
   "id": "2e59e437-aea0-4285-b6e0-36236dea1ef6",
   "metadata": {},
   "outputs": [
    {
     "name": "stdin",
     "output_type": "stream",
     "text": [
      " 87\n"
     ]
    },
    {
     "name": "stdout",
     "output_type": "stream",
     "text": [
      "+ve number\n"
     ]
    }
   ],
   "source": [
    "x = int(input())\n",
    "if(x>0):\n",
    "    print(\"+ve number\")\n",
    "elif(x == 0):\n",
    "    print(\"zero\")\n",
    "else:\n",
    "    print(\"-ve number\")"
   ]
  },
  {
   "cell_type": "code",
   "execution_count": 82,
   "id": "9111a0a5-0144-459b-b84c-dfc020ef289c",
   "metadata": {},
   "outputs": [],
   "source": [
    "#Q6"
   ]
  },
  {
   "cell_type": "code",
   "execution_count": 83,
   "id": "0bf2075e-cd9f-4893-ad42-87062935dc81",
   "metadata": {},
   "outputs": [],
   "source": [
    "def odd_even():\n",
    "    print(\"zdd zny zny number to check for odd even or not\")\n",
    "    x = flozt(input())\n",
    "    if(x % 2 == 0):\n",
    "        print(\"even number\")\n",
    "    else:\n",
    "        print(\"odd number\")"
   ]
  },
  {
   "cell_type": "code",
   "execution_count": 94,
   "id": "ddec6f18-ea3a-4d0c-b24c-2b02659c360d",
   "metadata": {},
   "outputs": [
    {
     "name": "stdout",
     "output_type": "stream",
     "text": [
      "add any any number to check for odd even or not\n"
     ]
    },
    {
     "name": "stdin",
     "output_type": "stream",
     "text": [
      " 47\n"
     ]
    },
    {
     "name": "stdout",
     "output_type": "stream",
     "text": [
      "odd number\n"
     ]
    }
   ],
   "source": [
    "odd_even()"
   ]
  },
  {
   "cell_type": "code",
   "execution_count": 95,
   "id": "aef083c2-6181-4218-bb25-d51ef423cebf",
   "metadata": {},
   "outputs": [],
   "source": [
    "#Q7"
   ]
  },
  {
   "cell_type": "code",
   "execution_count": null,
   "id": "6cf8413c-3076-45e0-ba49-7b33b5ec04e5",
   "metadata": {},
   "outputs": [],
   "source": [
    "#M1"
   ]
  },
  {
   "cell_type": "code",
   "execution_count": 153,
   "id": "1aa62c41-a873-4828-96ea-c98e435209a6",
   "metadata": {},
   "outputs": [
    {
     "name": "stdout",
     "output_type": "stream",
     "text": [
      "0\n",
      "3\n",
      "7654\n",
      "3\n",
      "7\n",
      "765\n",
      "7\n",
      "12\n",
      "76\n",
      "12\n",
      "18\n",
      "7\n",
      "18\n",
      "25\n",
      "0\n",
      "25\n"
     ]
    }
   ],
   "source": [
    "x = 50\n",
    "i = 0\n",
    "sum = 0 \n",
    "y = 76543\n",
    "for i in range(5):\n",
    "    if( y / 10 > 0): \n",
    "        print(sum)\n",
    "        sum = sum + y%10\n",
    "        print(sum)\n",
    "        \n",
    "        y = y //10\n",
    "        print(y)\n",
    "    else:\n",
    "        break\n",
    "\n",
    "print(sum)"
   ]
  },
  {
   "cell_type": "code",
   "execution_count": null,
   "id": "3c5def8e-6f1f-44fe-b62d-1143d54d289c",
   "metadata": {},
   "outputs": [],
   "source": [
    "#M2"
   ]
  },
  {
   "cell_type": "code",
   "execution_count": 156,
   "id": "d04cecc9-77f2-450a-9845-7f787c042aca",
   "metadata": {},
   "outputs": [
    {
     "name": "stdout",
     "output_type": "stream",
     "text": [
      "25\n"
     ]
    }
   ],
   "source": [
    "sum = 0 \n",
    "num = 76543\n",
    "while(num > 0):\n",
    "    sum = sum + num%10\n",
    "    num = num // 10\n",
    "print(sum)"
   ]
  },
  {
   "cell_type": "code",
   "execution_count": 157,
   "id": "d3c8d41c-0338-487b-bb1e-352b4f99c7e9",
   "metadata": {},
   "outputs": [],
   "source": [
    "#Q8"
   ]
  },
  {
   "cell_type": "code",
   "execution_count": 169,
   "id": "25302d1d-9371-4dd4-a683-fcb814a290b5",
   "metadata": {},
   "outputs": [],
   "source": [
    "# Logic\n",
    "new = 0 \n",
    "num = 43874\n",
    "x = 4\n",
    "new = new*10 + x\n",
    "x = 7\n",
    "new = new*10 + x\n",
    "x = 8\n",
    "new = new*10+ x"
   ]
  },
  {
   "cell_type": "code",
   "execution_count": 173,
   "id": "72866dd4-bbd7-41be-a039-70ad8c0d8211",
   "metadata": {},
   "outputs": [
    {
     "name": "stdout",
     "output_type": "stream",
     "text": [
      "6345\n"
     ]
    }
   ],
   "source": [
    "#solution\n",
    "number = 5436\n",
    "new_number =  0\n",
    "while(number > 0):\n",
    "    new_number = new_number*10 + number %10\n",
    "    number = number // 10\n",
    "\n",
    "print(new_number)"
   ]
  },
  {
   "cell_type": "code",
   "execution_count": 174,
   "id": "8fcca836-33b9-4616-a54a-d6fdf4183e01",
   "metadata": {},
   "outputs": [],
   "source": [
    "#Q9"
   ]
  },
  {
   "cell_type": "code",
   "execution_count": null,
   "id": "9193a7bd-4e71-42c7-94ae-2ed013d93538",
   "metadata": {},
   "outputs": [],
   "source": [
    "#logic\n",
    "count the number of digits \n",
    "then sum the number wrt to power \n",
    "check condition "
   ]
  },
  {
   "cell_type": "code",
   "execution_count": 197,
   "id": "4ec7382d-ef92-49ec-a69a-ca32ddeef194",
   "metadata": {},
   "outputs": [
    {
     "name": "stdout",
     "output_type": "stream",
     "text": [
      "153\n",
      "153\n",
      "armstrong_number\n",
      "<class 'int'>\n",
      "<class 'int'>\n"
     ]
    }
   ],
   "source": [
    "original_number = 153\n",
    "number = 153\n",
    "str_num = str(number)\n",
    "no_of_digits = len(str_num)\n",
    "sum_of_digits = 0 \n",
    "\n",
    "while(number > 0) : \n",
    "    sum_of_digits = sum_of_digits + (number %10)**no_of_digits\n",
    "    number = number // 10 \n",
    "\n",
    "print(sum_of_digits) \n",
    "print(original_number) \n",
    "\n",
    "if(sum_of_digits == original_number):\n",
    "    print(\"armstrong_number\")\n",
    "else:\n",
    "    print(\"general number\")\n",
    "print(type(number))\n",
    "print(type(sum_of_digits))"
   ]
  },
  {
   "cell_type": "markdown",
   "id": "5b41e7a1-5148-4b85-bf19-fa9298cabd40",
   "metadata": {},
   "source": [
    "3^3"
   ]
  },
  {
   "cell_type": "code",
   "execution_count": 184,
   "id": "b4b5e6ec-9e37-4ab1-9cc0-ae668641946d",
   "metadata": {},
   "outputs": [
    {
     "data": {
      "text/plain": [
       "81"
      ]
     },
     "execution_count": 184,
     "metadata": {},
     "output_type": "execute_result"
    }
   ],
   "source": [
    "3**4\n"
   ]
  },
  {
   "cell_type": "code",
   "execution_count": 96,
   "id": "3dfc6413-c8d8-474e-90dc-7ce80cf0533a",
   "metadata": {},
   "outputs": [],
   "source": [
    "#Q10"
   ]
  },
  {
   "cell_type": "code",
   "execution_count": 97,
   "id": "04679bb5-b64b-4f42-bf65-efedf7bf0a46",
   "metadata": {},
   "outputs": [],
   "source": [
    "def lezp_yezr():\n",
    "    print(\"zdd zny zny yezr to check for lezp yezr or not\")\n",
    "    x = flozt(input())\n",
    "    if(x % 4 == 0):\n",
    "        print(\"lezp yezr\")\n",
    "    else:\n",
    "        print(\"not lezp yezr\")"
   ]
  },
  {
   "cell_type": "code",
   "execution_count": 101,
   "id": "836d88b0-c26d-4f06-812e-289ffb1a4808",
   "metadata": {},
   "outputs": [
    {
     "name": "stdout",
     "output_type": "stream",
     "text": [
      "add any any year to check for leap year or not\n"
     ]
    },
    {
     "name": "stdin",
     "output_type": "stream",
     "text": [
      " 4\n"
     ]
    },
    {
     "name": "stdout",
     "output_type": "stream",
     "text": [
      "leap year\n"
     ]
    }
   ],
   "source": [
    "lezp_yezr()"
   ]
  },
  {
   "cell_type": "code",
   "execution_count": null,
   "id": "f842e4aa-b94d-4cb1-ae79-422a7d4b6e91",
   "metadata": {},
   "outputs": [],
   "source": [
    "2"
   ]
  }
 ],
 "metadata": {
  "kernelspec": {
   "display_name": "Python 3 (ipykernel)",
   "language": "python",
   "name": "python3"
  },
  "language_info": {
   "codemirror_mode": {
    "name": "ipython",
    "version": 3
   },
   "file_extension": ".py",
   "mimetype": "text/x-python",
   "name": "python",
   "nbconvert_exporter": "python",
   "pygments_lexer": "ipython3",
   "version": "3.11.7"
  }
 },
 "nbformat": 4,
 "nbformat_minor": 5
}
