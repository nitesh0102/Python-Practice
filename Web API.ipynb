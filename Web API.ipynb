{
 "cells": [
  {
   "cell_type": "markdown",
   "id": "e3c924b9-2405-4b8b-b5f2-e3fc76cc88a0",
   "metadata": {},
   "source": [
    "##                                                                WEB API "
   ]
  },
  {
   "cell_type": "markdown",
   "id": "f0c4de6b-b2a0-43e4-b114-762a6b86b349",
   "metadata": {},
   "source": [
    "Ex: Google pay asking to bank if user have balnce or not using API. "
   ]
  },
  {
   "cell_type": "markdown",
   "id": "c748298d-f67f-44f8-879a-614c5ed001f4",
   "metadata": {},
   "source": [
    "API : Application Programming Interface"
   ]
  },
  {
   "cell_type": "markdown",
   "id": "c458748a-ce79-4202-90cb-880ea53f0d05",
   "metadata": {},
   "source": [
    "Google( JAVA) ----------> API  <------------ Bank (Python)"
   ]
  },
  {
   "cell_type": "code",
   "execution_count": null,
   "id": "9278112d-6df6-4950-adeb-eb3fb01c34ea",
   "metadata": {},
   "outputs": [],
   "source": []
  },
  {
   "cell_type": "markdown",
   "id": "fa7418a8-c7a6-4c9d-9b8e-71971523061e",
   "metadata": {},
   "source": [
    "## Difference B/W Api and Web Api"
   ]
  },
  {
   "cell_type": "markdown",
   "id": "dd2700b3-3051-404d-a47a-2d039c78369f",
   "metadata": {},
   "source": [
    " API can be created using TCP,SMTP, HTTP"
   ]
  },
  {
   "cell_type": "markdown",
   "id": "cdf92ff2-8352-4b7c-ae3b-8236c1df520a",
   "metadata": {},
   "source": [
    "WEB API can be cretated using HTTP"
   ]
  },
  {
   "cell_type": "markdown",
   "id": "e0210b56-5caf-4338-8be5-bd71062ad966",
   "metadata": {},
   "source": [
    "Protocol is a set of rules "
   ]
  },
  {
   "cell_type": "markdown",
   "id": "7e50e066-daa4-41f0-9ad7-abaceca65db3",
   "metadata": {},
   "source": [
    "WEB API is a subset of API"
   ]
  },
  {
   "cell_type": "code",
   "execution_count": null,
   "id": "ddd13436-3c96-418a-8434-5c2b7ebb423f",
   "metadata": {},
   "outputs": [],
   "source": []
  },
  {
   "cell_type": "markdown",
   "id": "d01efe90-ae26-45a0-b207-ef6971611b27",
   "metadata": {},
   "source": [
    "## Rest and Soap Architecure "
   ]
  },
  {
   "cell_type": "markdown",
   "id": "4ac8fd59-fc24-41be-be56-d11400939147",
   "metadata": {},
   "source": [
    "Rest : Reprsentational state transfer \n",
    "Soap : Simple object access protocol "
   ]
  },
  {
   "cell_type": "code",
   "execution_count": null,
   "id": "44a6ab89-9637-4204-93a1-e6ef367b86e5",
   "metadata": {},
   "outputs": [],
   "source": [
    "Both are used to create API"
   ]
  },
  {
   "cell_type": "code",
   "execution_count": null,
   "id": "f01bf232-9d35-464c-8b46-2fcf5245feb4",
   "metadata": {},
   "outputs": [],
   "source": [
    "REST : Uses HTTP \n",
    "\n",
    "Functions like PUT, GET, POST , DELETE"
   ]
  },
  {
   "cell_type": "markdown",
   "id": "08392386-6bbf-4a0b-a69a-b8e7b66d7746",
   "metadata": {},
   "source": [
    "SOAP : TCP (Transmission Control Protocol), SMTP (Simple Mail Transfer Protcol) \n"
   ]
  },
  {
   "cell_type": "markdown",
   "id": "65bf7663-ef7b-422a-8b75-7f69e7d9f842",
   "metadata": {},
   "source": [
    "Rest is known for it's simplicity, Flexibilty and Scalibilty but it less secure than SOAP"
   ]
  },
  {
   "cell_type": "markdown",
   "id": "02d3c1a0-d677-4e5f-802d-a088bd995651",
   "metadata": {},
   "source": [
    "SOAP transfer messages using XML ( Xtended markup Language) (Internal rules are written in WSDL - Web Service Description Langugage) "
   ]
  },
  {
   "cell_type": "code",
   "execution_count": null,
   "id": "e90ac24c-dc5f-426e-894c-332f90b27113",
   "metadata": {},
   "outputs": [],
   "source": []
  },
  {
   "cell_type": "code",
   "execution_count": null,
   "id": "f317e22b-2cec-479f-9b0e-24771644c1c3",
   "metadata": {},
   "outputs": [],
   "source": []
  },
  {
   "cell_type": "markdown",
   "id": "b3f9f1ec-ba84-4865-b5e4-2cb4ec99116f",
   "metadata": {},
   "source": [
    "## Restful Services"
   ]
  },
  {
   "cell_type": "markdown",
   "id": "c63b6638-e92b-4aa8-8e90-4ba511cf68fd",
   "metadata": {},
   "source": [
    "Restful services are known as RESTful APIs, are web services that follow the REST architecural style. \n"
   ]
  },
  {
   "cell_type": "markdown",
   "id": "c14d1ec0-0d5c-424a-8b60-fbf0298f58cd",
   "metadata": {},
   "source": [
    "RESTful services are based on the following principles:  "
   ]
  },
  {
   "cell_type": "markdown",
   "id": "5feb3f1f-3626-4bc6-8d5a-d878fb662aa6",
   "metadata": {},
   "source": [
    "Client-Server Archhitecure : The client and server are sepreated,allowing them to evolve independently. "
   ]
  },
  {
   "cell_type": "markdown",
   "id": "7008004b-0ae8-4ac4-8b18-8b95f073a007",
   "metadata": {},
   "source": [
    "Stateless: Each Request sent to the server contains all the information needed to complete the request.  \n",
    "The Server does not maintain any client context between requests."
   ]
  },
  {
   "cell_type": "code",
   "execution_count": null,
   "id": "28289327-21b6-4b66-b31b-9b7c124f8bca",
   "metadata": {},
   "outputs": [],
   "source": [
    "Cacheable : Response from the server can be Cached to improve performance. "
   ]
  },
  {
   "cell_type": "code",
   "execution_count": null,
   "id": "1a71bb26-0802-4927-9977-3b0951e0f7e6",
   "metadata": {},
   "outputs": [],
   "source": [
    "Uniform Interface: RESTful services use a uniform interface consisting of resources, HTTP verbs( GET,POST etc) and hypermdedia links"
   ]
  },
  {
   "cell_type": "code",
   "execution_count": null,
   "id": "12544cf4-1a43-417c-86cf-4280abb5a4b9",
   "metadata": {},
   "outputs": [],
   "source": [
    "Layered System : Can be composed of multiple layers,allowing for scalabilty,flexibilty"
   ]
  }
 ],
 "metadata": {
  "kernelspec": {
   "display_name": "Python 3 (ipykernel)",
   "language": "python",
   "name": "python3"
  },
  "language_info": {
   "codemirror_mode": {
    "name": "ipython",
    "version": 3
   },
   "file_extension": ".py",
   "mimetype": "text/x-python",
   "name": "python",
   "nbconvert_exporter": "python",
   "pygments_lexer": "ipython3",
   "version": "3.11.7"
  }
 },
 "nbformat": 4,
 "nbformat_minor": 5
}
