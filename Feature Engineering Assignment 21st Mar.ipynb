{
 "cells": [
  {
   "cell_type": "markdown",
   "id": "e774a420-1339-43c1-917d-527e265b3906",
   "metadata": {},
   "source": [
    "#Q1"
   ]
  },
  {
   "cell_type": "code",
   "execution_count": null,
   "id": "ce3a3f13-22bf-4b0b-80bd-79567d012caa",
   "metadata": {},
   "outputs": [],
   "source": [
    "Ordinal assigns integer values basis the natural order, tall medium short \n",
    "Label assigns integer without any ranking."
   ]
  },
  {
   "cell_type": "code",
   "execution_count": null,
   "id": "5cba38af-aa76-42a1-9c1a-b17a71b3cd61",
   "metadata": {},
   "outputs": [],
   "source": []
  },
  {
   "cell_type": "code",
   "execution_count": 1,
   "id": "cbf307e1-d53a-4197-b7c1-c654d938e703",
   "metadata": {},
   "outputs": [],
   "source": [
    "#Q2"
   ]
  },
  {
   "cell_type": "code",
   "execution_count": null,
   "id": "56977afb-998a-40f9-86f3-b011dc0f9ba7",
   "metadata": {},
   "outputs": [],
   "source": [
    "Taking help of target variable to encode data. \n",
    "\n",
    "Ranking kids basis their marks. "
   ]
  },
  {
   "cell_type": "code",
   "execution_count": null,
   "id": "11f37405-800d-42f3-9967-1c1c18087ed9",
   "metadata": {},
   "outputs": [],
   "source": []
  },
  {
   "cell_type": "code",
   "execution_count": 2,
   "id": "8d3278bc-09ba-4f04-b4bf-ed4e22e77f96",
   "metadata": {},
   "outputs": [],
   "source": [
    "#Q3"
   ]
  },
  {
   "cell_type": "code",
   "execution_count": null,
   "id": "8a821491-2f51-45a8-bed9-fb4a6e4fdb8b",
   "metadata": {},
   "outputs": [],
   "source": [
    "Covariance and correlation are both statistical concepts that help us understand the relationship between two variables.\n",
    "\n",
    "Covariance measures the direction of the relationship vs correaltion measure it's strength. "
   ]
  },
  {
   "cell_type": "code",
   "execution_count": null,
   "id": "a3ff225d-6fd8-49dd-92d2-d5e69638cf7a",
   "metadata": {},
   "outputs": [],
   "source": [
    "Covariance shows how two variables fluctuate with each other, same direction movement positive covariance and oppostite direction \n",
    "movement Negative Covariance. \n",
    "\n",
    "CoRelation shows how strongly two variables are associated with each other, It describes how a change in one variable leads to change in the\n",
    "% change in second variable. \n",
    "Co relation values are standardized and range from +1 to -1, with extreme values indicating a strong relationship. A corelation value of 0 indicates \n",
    "no linear relationship within variables. "
   ]
  },
  {
   "cell_type": "code",
   "execution_count": null,
   "id": "8fc49e23-4795-4502-97a1-68c2dd873701",
   "metadata": {},
   "outputs": [],
   "source": [
    "numpy.cov()"
   ]
  },
  {
   "cell_type": "code",
   "execution_count": null,
   "id": "5dbc912a-52a4-412a-a5c0-cc90394c6d74",
   "metadata": {},
   "outputs": [],
   "source": []
  },
  {
   "cell_type": "code",
   "execution_count": 3,
   "id": "e1c2fac5-0314-4f97-9199-e424d4c1bf7a",
   "metadata": {},
   "outputs": [],
   "source": [
    "#Q4"
   ]
  },
  {
   "cell_type": "code",
   "execution_count": 62,
   "id": "9d25c1b4-5c4d-4a49-b00a-6fa969c2228f",
   "metadata": {},
   "outputs": [],
   "source": [
    "import pandas as pd\n",
    "df = pd.DataFrame({'Name' : ('A','B','C'), 'Color' : ('red','green','blue'), 'size' : ('small','medium','large'), 'material' : ('wood','metal','plastic')})"
   ]
  },
  {
   "cell_type": "code",
   "execution_count": 47,
   "id": "8c1dfdd9-e664-455b-b814-ed4a255295c8",
   "metadata": {},
   "outputs": [],
   "source": [
    "new_row = {'Name':'D','Color':'blue','size':'small','material':'metal'}"
   ]
  },
  {
   "cell_type": "code",
   "execution_count": 63,
   "id": "6f78f3bb-d220-4719-b5c4-f05fdacaeebc",
   "metadata": {},
   "outputs": [],
   "source": [
    "new_row2 = {'E','red','medium','plastic'}"
   ]
  },
  {
   "cell_type": "code",
   "execution_count": 65,
   "id": "06b3d38d-39cd-424d-b23f-6b5a1b016f1e",
   "metadata": {},
   "outputs": [],
   "source": [
    "df = df._append(new_row,ignore_index=True)"
   ]
  },
  {
   "cell_type": "code",
   "execution_count": 66,
   "id": "2ca088ce-0ea7-4277-9127-115aef0e1c73",
   "metadata": {},
   "outputs": [
    {
     "data": {
      "text/html": [
       "<div>\n",
       "<style scoped>\n",
       "    .dataframe tbody tr th:only-of-type {\n",
       "        vertical-align: middle;\n",
       "    }\n",
       "\n",
       "    .dataframe tbody tr th {\n",
       "        vertical-align: top;\n",
       "    }\n",
       "\n",
       "    .dataframe thead th {\n",
       "        text-align: right;\n",
       "    }\n",
       "</style>\n",
       "<table border=\"1\" class=\"dataframe\">\n",
       "  <thead>\n",
       "    <tr style=\"text-align: right;\">\n",
       "      <th></th>\n",
       "      <th>Name</th>\n",
       "      <th>Color</th>\n",
       "      <th>size</th>\n",
       "      <th>material</th>\n",
       "    </tr>\n",
       "  </thead>\n",
       "  <tbody>\n",
       "    <tr>\n",
       "      <th>0</th>\n",
       "      <td>A</td>\n",
       "      <td>red</td>\n",
       "      <td>small</td>\n",
       "      <td>wood</td>\n",
       "    </tr>\n",
       "    <tr>\n",
       "      <th>1</th>\n",
       "      <td>B</td>\n",
       "      <td>green</td>\n",
       "      <td>medium</td>\n",
       "      <td>metal</td>\n",
       "    </tr>\n",
       "    <tr>\n",
       "      <th>2</th>\n",
       "      <td>C</td>\n",
       "      <td>blue</td>\n",
       "      <td>large</td>\n",
       "      <td>plastic</td>\n",
       "    </tr>\n",
       "    <tr>\n",
       "      <th>3</th>\n",
       "      <td>D</td>\n",
       "      <td>blue</td>\n",
       "      <td>small</td>\n",
       "      <td>metal</td>\n",
       "    </tr>\n",
       "  </tbody>\n",
       "</table>\n",
       "</div>"
      ],
      "text/plain": [
       "  Name  Color    size material\n",
       "0    A    red   small     wood\n",
       "1    B  green  medium    metal\n",
       "2    C   blue   large  plastic\n",
       "3    D   blue   small    metal"
      ]
     },
     "execution_count": 66,
     "metadata": {},
     "output_type": "execute_result"
    }
   ],
   "source": [
    "df"
   ]
  },
  {
   "cell_type": "code",
   "execution_count": 12,
   "id": "0023d8da-12ad-4ef4-981c-473566b7c5ab",
   "metadata": {},
   "outputs": [],
   "source": [
    "from sklearn.preprocessing import LabelEncoder"
   ]
  },
  {
   "cell_type": "code",
   "execution_count": 67,
   "id": "dcb1a5aa-e8a2-4044-8da9-8561df8edda2",
   "metadata": {},
   "outputs": [],
   "source": [
    "le = LabelEncoder()"
   ]
  },
  {
   "cell_type": "code",
   "execution_count": 71,
   "id": "2dad853b-1dde-4200-927f-c8286d01819b",
   "metadata": {},
   "outputs": [
    {
     "ename": "ValueError",
     "evalue": "y should be a 1d array, got an array of shape (4, 3) instead.",
     "output_type": "error",
     "traceback": [
      "\u001b[1;31m---------------------------------------------------------------------------\u001b[0m",
      "\u001b[1;31mValueError\u001b[0m                                Traceback (most recent call last)",
      "Cell \u001b[1;32mIn[71], line 1\u001b[0m\n\u001b[1;32m----> 1\u001b[0m le1 \u001b[38;5;241m=\u001b[39m le\u001b[38;5;241m.\u001b[39mfit_transform(df[[\u001b[38;5;124m'\u001b[39m\u001b[38;5;124mColor\u001b[39m\u001b[38;5;124m'\u001b[39m,\u001b[38;5;124m'\u001b[39m\u001b[38;5;124msize\u001b[39m\u001b[38;5;124m'\u001b[39m,\u001b[38;5;124m'\u001b[39m\u001b[38;5;124mmaterial\u001b[39m\u001b[38;5;124m'\u001b[39m]])\u001b[38;5;241m.\u001b[39mtoarray()\n",
      "File \u001b[1;32m~\\AppData\\Local\\anaconda3\\Lib\\site-packages\\sklearn\\utils\\_set_output.py:140\u001b[0m, in \u001b[0;36m_wrap_method_output.<locals>.wrapped\u001b[1;34m(self, X, *args, **kwargs)\u001b[0m\n\u001b[0;32m    138\u001b[0m \u001b[38;5;129m@wraps\u001b[39m(f)\n\u001b[0;32m    139\u001b[0m \u001b[38;5;28;01mdef\u001b[39;00m \u001b[38;5;21mwrapped\u001b[39m(\u001b[38;5;28mself\u001b[39m, X, \u001b[38;5;241m*\u001b[39margs, \u001b[38;5;241m*\u001b[39m\u001b[38;5;241m*\u001b[39mkwargs):\n\u001b[1;32m--> 140\u001b[0m     data_to_wrap \u001b[38;5;241m=\u001b[39m f(\u001b[38;5;28mself\u001b[39m, X, \u001b[38;5;241m*\u001b[39margs, \u001b[38;5;241m*\u001b[39m\u001b[38;5;241m*\u001b[39mkwargs)\n\u001b[0;32m    141\u001b[0m     \u001b[38;5;28;01mif\u001b[39;00m \u001b[38;5;28misinstance\u001b[39m(data_to_wrap, \u001b[38;5;28mtuple\u001b[39m):\n\u001b[0;32m    142\u001b[0m         \u001b[38;5;66;03m# only wrap the first output for cross decomposition\u001b[39;00m\n\u001b[0;32m    143\u001b[0m         \u001b[38;5;28;01mreturn\u001b[39;00m (\n\u001b[0;32m    144\u001b[0m             _wrap_data_with_container(method, data_to_wrap[\u001b[38;5;241m0\u001b[39m], X, \u001b[38;5;28mself\u001b[39m),\n\u001b[0;32m    145\u001b[0m             \u001b[38;5;241m*\u001b[39mdata_to_wrap[\u001b[38;5;241m1\u001b[39m:],\n\u001b[0;32m    146\u001b[0m         )\n",
      "File \u001b[1;32m~\\AppData\\Local\\anaconda3\\Lib\\site-packages\\sklearn\\preprocessing\\_label.py:116\u001b[0m, in \u001b[0;36mLabelEncoder.fit_transform\u001b[1;34m(self, y)\u001b[0m\n\u001b[0;32m    103\u001b[0m \u001b[38;5;28;01mdef\u001b[39;00m \u001b[38;5;21mfit_transform\u001b[39m(\u001b[38;5;28mself\u001b[39m, y):\n\u001b[0;32m    104\u001b[0m \u001b[38;5;250m    \u001b[39m\u001b[38;5;124;03m\"\"\"Fit label encoder and return encoded labels.\u001b[39;00m\n\u001b[0;32m    105\u001b[0m \n\u001b[0;32m    106\u001b[0m \u001b[38;5;124;03m    Parameters\u001b[39;00m\n\u001b[1;32m   (...)\u001b[0m\n\u001b[0;32m    114\u001b[0m \u001b[38;5;124;03m        Encoded labels.\u001b[39;00m\n\u001b[0;32m    115\u001b[0m \u001b[38;5;124;03m    \"\"\"\u001b[39;00m\n\u001b[1;32m--> 116\u001b[0m     y \u001b[38;5;241m=\u001b[39m column_or_1d(y, warn\u001b[38;5;241m=\u001b[39m\u001b[38;5;28;01mTrue\u001b[39;00m)\n\u001b[0;32m    117\u001b[0m     \u001b[38;5;28mself\u001b[39m\u001b[38;5;241m.\u001b[39mclasses_, y \u001b[38;5;241m=\u001b[39m _unique(y, return_inverse\u001b[38;5;241m=\u001b[39m\u001b[38;5;28;01mTrue\u001b[39;00m)\n\u001b[0;32m    118\u001b[0m     \u001b[38;5;28;01mreturn\u001b[39;00m y\n",
      "File \u001b[1;32m~\\AppData\\Local\\anaconda3\\Lib\\site-packages\\sklearn\\utils\\validation.py:1202\u001b[0m, in \u001b[0;36mcolumn_or_1d\u001b[1;34m(y, dtype, warn)\u001b[0m\n\u001b[0;32m   1193\u001b[0m         warnings\u001b[38;5;241m.\u001b[39mwarn(\n\u001b[0;32m   1194\u001b[0m             \u001b[38;5;124m\"\u001b[39m\u001b[38;5;124mA column-vector y was passed when a 1d array was\u001b[39m\u001b[38;5;124m\"\u001b[39m\n\u001b[0;32m   1195\u001b[0m             \u001b[38;5;124m\"\u001b[39m\u001b[38;5;124m expected. Please change the shape of y to \u001b[39m\u001b[38;5;124m\"\u001b[39m\n\u001b[1;32m   (...)\u001b[0m\n\u001b[0;32m   1198\u001b[0m             stacklevel\u001b[38;5;241m=\u001b[39m\u001b[38;5;241m2\u001b[39m,\n\u001b[0;32m   1199\u001b[0m         )\n\u001b[0;32m   1200\u001b[0m     \u001b[38;5;28;01mreturn\u001b[39;00m _asarray_with_order(xp\u001b[38;5;241m.\u001b[39mreshape(y, \u001b[38;5;241m-\u001b[39m\u001b[38;5;241m1\u001b[39m), order\u001b[38;5;241m=\u001b[39m\u001b[38;5;124m\"\u001b[39m\u001b[38;5;124mC\u001b[39m\u001b[38;5;124m\"\u001b[39m, xp\u001b[38;5;241m=\u001b[39mxp)\n\u001b[1;32m-> 1202\u001b[0m \u001b[38;5;28;01mraise\u001b[39;00m \u001b[38;5;167;01mValueError\u001b[39;00m(\n\u001b[0;32m   1203\u001b[0m     \u001b[38;5;124m\"\u001b[39m\u001b[38;5;124my should be a 1d array, got an array of shape \u001b[39m\u001b[38;5;132;01m{}\u001b[39;00m\u001b[38;5;124m instead.\u001b[39m\u001b[38;5;124m\"\u001b[39m\u001b[38;5;241m.\u001b[39mformat(shape)\n\u001b[0;32m   1204\u001b[0m )\n",
      "\u001b[1;31mValueError\u001b[0m: y should be a 1d array, got an array of shape (4, 3) instead."
     ]
    }
   ],
   "source": [
    "le1 = le.fit_transform(df[['Color','size','material']]).toarray()"
   ]
  },
  {
   "cell_type": "code",
   "execution_count": 19,
   "id": "aa5c8869-f1dc-4ff5-a411-dbe306c4a4c6",
   "metadata": {},
   "outputs": [],
   "source": [
    "A1 = le.transform(df['Color'])"
   ]
  },
  {
   "cell_type": "code",
   "execution_count": 25,
   "id": "9dd502ec-01cb-4cd9-ab5b-458675799629",
   "metadata": {},
   "outputs": [
    {
     "data": {
      "text/plain": [
       "array([2, 1, 0])"
      ]
     },
     "execution_count": 25,
     "metadata": {},
     "output_type": "execute_result"
    }
   ],
   "source": [
    "A1"
   ]
  },
  {
   "cell_type": "code",
   "execution_count": null,
   "id": "a237973c-b753-4b40-843a-557c41a8d27c",
   "metadata": {},
   "outputs": [],
   "source": []
  },
  {
   "cell_type": "code",
   "execution_count": null,
   "id": "5cd41546-3d51-42fd-9b7f-c28b46775a12",
   "metadata": {},
   "outputs": [],
   "source": []
  },
  {
   "cell_type": "code",
   "execution_count": 72,
   "id": "9baa152f-f370-4c5b-acf9-e0e3491b10ae",
   "metadata": {},
   "outputs": [],
   "source": [
    "#Q5"
   ]
  },
  {
   "cell_type": "code",
   "execution_count": 73,
   "id": "5cbed8eb-7a45-44f2-9e69-f3fd34085da9",
   "metadata": {},
   "outputs": [],
   "source": [
    "df = pd.DataFrame({'Name':(\"Nitesh\",\"Ramesh\",\"Suresh\"), 'Age' :(30,35,40),'income' : (100,200,400), 'Education' : ('Graduate','post-Graduate','Graduate')})"
   ]
  },
  {
   "cell_type": "code",
   "execution_count": 74,
   "id": "3ed371ff-283d-417a-9b92-2ba824f39dfb",
   "metadata": {},
   "outputs": [
    {
     "data": {
      "text/html": [
       "<div>\n",
       "<style scoped>\n",
       "    .dataframe tbody tr th:only-of-type {\n",
       "        vertical-align: middle;\n",
       "    }\n",
       "\n",
       "    .dataframe tbody tr th {\n",
       "        vertical-align: top;\n",
       "    }\n",
       "\n",
       "    .dataframe thead th {\n",
       "        text-align: right;\n",
       "    }\n",
       "</style>\n",
       "<table border=\"1\" class=\"dataframe\">\n",
       "  <thead>\n",
       "    <tr style=\"text-align: right;\">\n",
       "      <th></th>\n",
       "      <th>Name</th>\n",
       "      <th>Age</th>\n",
       "      <th>income</th>\n",
       "      <th>Education</th>\n",
       "    </tr>\n",
       "  </thead>\n",
       "  <tbody>\n",
       "    <tr>\n",
       "      <th>0</th>\n",
       "      <td>Nitesh</td>\n",
       "      <td>30</td>\n",
       "      <td>100</td>\n",
       "      <td>Graduate</td>\n",
       "    </tr>\n",
       "    <tr>\n",
       "      <th>1</th>\n",
       "      <td>Ramesh</td>\n",
       "      <td>35</td>\n",
       "      <td>200</td>\n",
       "      <td>post-Graduate</td>\n",
       "    </tr>\n",
       "    <tr>\n",
       "      <th>2</th>\n",
       "      <td>Suresh</td>\n",
       "      <td>40</td>\n",
       "      <td>400</td>\n",
       "      <td>Graduate</td>\n",
       "    </tr>\n",
       "  </tbody>\n",
       "</table>\n",
       "</div>"
      ],
      "text/plain": [
       "     Name  Age  income      Education\n",
       "0  Nitesh   30     100       Graduate\n",
       "1  Ramesh   35     200  post-Graduate\n",
       "2  Suresh   40     400       Graduate"
      ]
     },
     "execution_count": 74,
     "metadata": {},
     "output_type": "execute_result"
    }
   ],
   "source": [
    "df"
   ]
  },
  {
   "cell_type": "code",
   "execution_count": 75,
   "id": "a47c3f86-c8c5-40c0-aa32-c28f546543eb",
   "metadata": {},
   "outputs": [],
   "source": [
    "import numpy as np"
   ]
  },
  {
   "cell_type": "code",
   "execution_count": 76,
   "id": "1082be3f-5b8d-4260-b892-b3917ee5aade",
   "metadata": {},
   "outputs": [
    {
     "data": {
      "text/plain": [
       "array([[   25.        ,   750.        ],\n",
       "       [  750.        , 23333.33333333]])"
      ]
     },
     "execution_count": 76,
     "metadata": {},
     "output_type": "execute_result"
    }
   ],
   "source": [
    "np.cov(df['Age'],df['income'])"
   ]
  },
  {
   "cell_type": "code",
   "execution_count": 80,
   "id": "e135523b-5550-4484-9a9c-95aea6f818de",
   "metadata": {},
   "outputs": [
    {
     "name": "stdout",
     "output_type": "stream",
     "text": [
      "[[ 0.88445  0.51205  0.2793  -0.36575]\n",
      " [ 0.51205  0.29645  0.1617  -0.21175]\n",
      " [ 0.2793   0.1617   0.0882  -0.1155 ]\n",
      " [-0.36575 -0.21175 -0.1155   0.15125]]\n"
     ]
    }
   ],
   "source": [
    "# Python code to demonstrate the \n",
    "# use of numpy.cov\n",
    "import numpy as np\n",
    "\n",
    "x = [1.23, 2.12, 3.34, 4.5]\n",
    "\n",
    "y = [2.56, 2.89, 3.76, 3.95]\n",
    "\n",
    "# find out covariance with respect  columns\n",
    "cov_mat = np.stack((x, y), axis = 1) \n",
    "\n",
    "print(np.cov(cov_mat))"
   ]
  },
  {
   "cell_type": "code",
   "execution_count": null,
   "id": "8044cff0-4a11-4a1a-8469-f3ec19c45e4d",
   "metadata": {},
   "outputs": [],
   "source": []
  },
  {
   "cell_type": "code",
   "execution_count": null,
   "id": "ff2ba011-8fd8-4cb7-9a2a-57e9b8f04f25",
   "metadata": {},
   "outputs": [],
   "source": []
  }
 ],
 "metadata": {
  "kernelspec": {
   "display_name": "Python 3 (ipykernel)",
   "language": "python",
   "name": "python3"
  },
  "language_info": {
   "codemirror_mode": {
    "name": "ipython",
    "version": 3
   },
   "file_extension": ".py",
   "mimetype": "text/x-python",
   "name": "python",
   "nbconvert_exporter": "python",
   "pygments_lexer": "ipython3",
   "version": "3.11.7"
  }
 },
 "nbformat": 4,
 "nbformat_minor": 5
}
