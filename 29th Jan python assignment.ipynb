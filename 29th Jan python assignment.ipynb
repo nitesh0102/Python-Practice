{
 "cells": [
  {
   "cell_type": "code",
   "execution_count": 1,
   "id": "af3f6b24-750c-4421-b261-fef0f9d36fb3",
   "metadata": {},
   "outputs": [],
   "source": [
    "# Guido van rossum"
   ]
  },
  {
   "cell_type": "code",
   "execution_count": 2,
   "id": "4d6a63e6-49d4-40e6-9884-630ae139d6b0",
   "metadata": {},
   "outputs": [],
   "source": [
    "# Multi paradigm programming language. Object oriented, structured \n"
   ]
  },
  {
   "cell_type": "code",
   "execution_count": 3,
   "id": "1c057fc9-f1d9-43fc-95c4-f6826a2cbac8",
   "metadata": {},
   "outputs": [],
   "source": [
    "# Yes python is case sensitive "
   ]
  },
  {
   "cell_type": "code",
   "execution_count": 4,
   "id": "e2f46aff-02fa-428d-bdc2-32f50ef46d7d",
   "metadata": {},
   "outputs": [],
   "source": [
    "# ipynb "
   ]
  },
  {
   "cell_type": "code",
   "execution_count": 5,
   "id": "07f26c66-b037-4393-857d-5ed9b9b20035",
   "metadata": {},
   "outputs": [],
   "source": [
    "# python is an interpreted language"
   ]
  },
  {
   "cell_type": "code",
   "execution_count": 7,
   "id": "6ae0a270-ba57-42b3-a7e9-b2e3c9ba0173",
   "metadata": {},
   "outputs": [],
   "source": [
    "# Module, function, class definition "
   ]
  },
  {
   "cell_type": "code",
   "execution_count": 8,
   "id": "70c92c7e-add5-479d-a3b9-372490710afc",
   "metadata": {},
   "outputs": [],
   "source": [
    "# for comments #"
   ]
  },
  {
   "cell_type": "code",
   "execution_count": 11,
   "id": "e33c41f9-6b00-4669-8466-e3d9a1bc21bd",
   "metadata": {},
   "outputs": [
    {
     "name": "stdout",
     "output_type": "stream",
     "text": [
      "pip 23.3.1 from C:\\Users\\nitesh.sethia\\AppData\\Local\\anaconda3\\Lib\\site-packages\\pip (python 3.11)\n",
      "\n",
      "Note: you may need to restart the kernel to use updated packages.\n"
     ]
    }
   ],
   "source": [
    "pip--version "
   ]
  },
  {
   "cell_type": "code",
   "execution_count": 12,
   "id": "3d700fc7-ff54-486a-a6d0-f233833c6008",
   "metadata": {},
   "outputs": [],
   "source": [
    "# lambda is used to create anonymous function "
   ]
  },
  {
   "cell_type": "code",
   "execution_count": 13,
   "id": "058ca5af-65b1-478e-b9db-af93c6b8d8d6",
   "metadata": {},
   "outputs": [],
   "source": [
    "# pip = Preferred Installer Program"
   ]
  },
  {
   "cell_type": "code",
   "execution_count": 14,
   "id": "6dce44ed-c76f-4808-bd1c-3756adeffa00",
   "metadata": {},
   "outputs": [],
   "source": [
    "# sum(),bool(), compile(), dict(), tuple(), zip()"
   ]
  },
  {
   "cell_type": "code",
   "execution_count": 15,
   "id": "93a26667-1589-4dc2-841e-f273fc3d21da",
   "metadata": {},
   "outputs": [],
   "source": [
    "# 79"
   ]
  },
  {
   "cell_type": "code",
   "execution_count": 16,
   "id": "2459abd0-91c5-4d19-9a32-1ef13a7030d5",
   "metadata": {},
   "outputs": [],
   "source": [
    "# Easy to read and learn \n",
    "#Asynchronous coding \n",
    "#wide applicability "
   ]
  },
  {
   "cell_type": "code",
   "execution_count": null,
   "id": "8b2ba04c-1915-4f36-b6ea-651baba16e3a",
   "metadata": {},
   "outputs": [],
   "source": [
    "/* Step 1: Select Python Version.\n",
    "Step 2: Download Python Executable Installer.\n",
    "Step 3: Run Executable Installer.\n",
    "Step 4: Add Python to Path (Optional)\n",
    "Step 5: Verify Python Was Installed on Windows.\n",
    "Step 6: Verify PIP Was Installed.\n",
    "Step 7: Install virtualenv (Optional) ///"
   ]
  },
  {
   "cell_type": "code",
   "execution_count": null,
   "id": "411399c9-22b3-4c7d-823f-df93a3adcdaa",
   "metadata": {},
   "outputs": [],
   "source": [
    "#indentaion is required"
   ]
  }
 ],
 "metadata": {
  "kernelspec": {
   "display_name": "Python 3 (ipykernel)",
   "language": "python",
   "name": "python3"
  },
  "language_info": {
   "codemirror_mode": {
    "name": "ipython",
    "version": 3
   },
   "file_extension": ".py",
   "mimetype": "text/x-python",
   "name": "python",
   "nbconvert_exporter": "python",
   "pygments_lexer": "ipython3",
   "version": "3.11.7"
  }
 },
 "nbformat": 4,
 "nbformat_minor": 5
}
