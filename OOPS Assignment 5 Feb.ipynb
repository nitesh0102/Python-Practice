{
 "cells": [
  {
   "cell_type": "code",
   "execution_count": 1,
   "id": "ff6c9691-8ffc-4c28-aec2-ec8eba86dd27",
   "metadata": {},
   "outputs": [],
   "source": [
    "#Q1"
   ]
  },
  {
   "cell_type": "code",
   "execution_count": null,
   "id": "11ef68b3-0376-4212-8bbd-01b72ed19671",
   "metadata": {},
   "outputs": [],
   "source": [
    "#Class - Class is a blue print for an object. "
   ]
  },
  {
   "cell_type": "code",
   "execution_count": 2,
   "id": "bab3d3e7-97df-4b98-8fd7-501b6c48cf0f",
   "metadata": {},
   "outputs": [
    {
     "data": {
      "text/plain": [
       "' A class is a user-defined blueprint or prototype from which objects are cretaed. class provide a means of building data and \\nfunctionality together. Creating a new class creates a new type of object, allowing new instance of that type to be made. '"
      ]
     },
     "execution_count": 2,
     "metadata": {},
     "output_type": "execute_result"
    }
   ],
   "source": [
    "\"\"\" A class is a user-defined blueprint or prototype from which objects are cretaed. class provide a means of building data and \n",
    "functionality together. Creating a new class creates a new type of object, allowing new instance of that type to be made. \"\"\""
   ]
  },
  {
   "cell_type": "code",
   "execution_count": 4,
   "id": "f1b76541-912a-4e51-ba9e-e8dac0fa808a",
   "metadata": {},
   "outputs": [
    {
     "data": {
      "text/plain": [
       "\" Each class instance can have different attributes attached to it for maintaining it's state. class instance can also have\\nmethods (defined by their class) for modifying their state. \""
      ]
     },
     "execution_count": 4,
     "metadata": {},
     "output_type": "execute_result"
    }
   ],
   "source": [
    "\"\"\" Each class instance can have different attributes attached to it for maintaining it's state. class instance can also have\n",
    "methods (defined by their class) for modifying their state. \"\"\""
   ]
  },
  {
   "cell_type": "code",
   "execution_count": 5,
   "id": "b9ccf756-1c28-4dd1-b532-35e47d6b023a",
   "metadata": {},
   "outputs": [],
   "source": [
    "# A class is like a blue print for an object.  "
   ]
  },
  {
   "cell_type": "code",
   "execution_count": 6,
   "id": "d19e43e2-cc0e-40ca-8fa4-8df2d19ace56",
   "metadata": {},
   "outputs": [],
   "source": [
    "#1. Attributes are the variables that belong to a class"
   ]
  },
  {
   "cell_type": "code",
   "execution_count": 7,
   "id": "b70f9d45-c3b8-4ffa-aedc-e6ab0ed6c7e4",
   "metadata": {},
   "outputs": [],
   "source": [
    "#2. Attributes can be accessed by : Myclass.Myattribute"
   ]
  },
  {
   "cell_type": "markdown",
   "id": "837365cc-0ec1-4020-b814-04e362295e40",
   "metadata": {},
   "source": [
    "### Object of Python class"
   ]
  },
  {
   "cell_type": "code",
   "execution_count": 9,
   "id": "e4872325-7cc3-4fc2-8c7f-e918c747c040",
   "metadata": {},
   "outputs": [],
   "source": [
    "\"An object is an instance of a class. A class is like a blueprint while an instance is a copy of the class with actual values. "
   ]
  },
  {
   "cell_type": "code",
   "execution_count": null,
   "id": "4adb82f4-160b-4ae5-a7d9-5a8c22c42e62",
   "metadata": {},
   "outputs": [],
   "source": [
    "\" It's not an idea anymore, It's an actual dog, like a dog of breed pug who's seven years old. "
   ]
  },
  {
   "cell_type": "code",
   "execution_count": null,
   "id": "2357e573-88ed-40fb-a017-0d9e438d05a2",
   "metadata": {},
   "outputs": [],
   "source": [
    "An Object consists of \n",
    "1. State : It is reprsented by the attributes of an object\n",
    "2. Behaviour : It is reprsented by the methods of an object \n",
    "3. Identity: It gives a unique name to an object "
   ]
  },
  {
   "cell_type": "code",
   "execution_count": 10,
   "id": "17b31379-3062-4ee9-86a9-8fee1b3ce0b2",
   "metadata": {},
   "outputs": [],
   "source": [
    "# Example"
   ]
  },
  {
   "cell_type": "code",
   "execution_count": 11,
   "id": "b3549613-36a8-4709-a5fa-d6796943a606",
   "metadata": {},
   "outputs": [],
   "source": [
    "class dog: \n",
    "\n",
    "    attr1 = \"mammal\"\n",
    "    attr2 = \"dog\"\n",
    "\n",
    "    def fun_test(self):\n",
    "        print(\" I am a \", self.attr1)\n",
    "        print(\" I am a \", self.attr2)\n",
    "\n",
    "rodger = dog()"
   ]
  },
  {
   "cell_type": "code",
   "execution_count": 12,
   "id": "e5fa8ac6-0965-49ab-83dd-d7878475196e",
   "metadata": {},
   "outputs": [
    {
     "name": "stdout",
     "output_type": "stream",
     "text": [
      " I am a  mammal\n",
      " I am a  dog\n"
     ]
    }
   ],
   "source": [
    "rodger.fun_test()"
   ]
  },
  {
   "cell_type": "code",
   "execution_count": 13,
   "id": "8b48abad-f782-48b2-8592-b4b82fd0df5f",
   "metadata": {},
   "outputs": [
    {
     "name": "stdout",
     "output_type": "stream",
     "text": [
      "mammal\n"
     ]
    }
   ],
   "source": [
    "print(rodger.attr1)"
   ]
  },
  {
   "cell_type": "code",
   "execution_count": 14,
   "id": "ae5888f5-9d72-47e3-933a-4773a48bd29e",
   "metadata": {},
   "outputs": [],
   "source": [
    "# Q2 Four pillar of OOPS"
   ]
  },
  {
   "cell_type": "code",
   "execution_count": null,
   "id": "c2319fba-d9e7-4a24-badb-b2d0106b079f",
   "metadata": {},
   "outputs": [],
   "source": [
    "\"\"\"\n",
    "1. Encapsulation \n",
    "2. Polymorphism \n",
    "3. Inheritance\n",
    "4. Abstarction "
   ]
  },
  {
   "cell_type": "code",
   "execution_count": 15,
   "id": "1c26956f-2a4b-4451-8e87-7f5f36979514",
   "metadata": {},
   "outputs": [],
   "source": [
    "# Q3  __init__ Method"
   ]
  },
  {
   "cell_type": "code",
   "execution_count": null,
   "id": "dd812cde-5032-46af-ab86-f8ef314d2cc6",
   "metadata": {},
   "outputs": [],
   "source": [
    "The __init__ method is similar to constructors in c++ and java. Constructors are used to initalizing the object's state. \n",
    "Like methods a constructor also contains a collection of statments that are executed at the time of object creation. it runs\n",
    "as soon as an object of a class is instantiated. The method is useful to do any initalization you want to do with your object. "
   ]
  },
  {
   "cell_type": "code",
   "execution_count": null,
   "id": "7ea40ad1-7290-4d34-b2ce-df3e931dc846",
   "metadata": {},
   "outputs": [],
   "source": []
  },
  {
   "cell_type": "code",
   "execution_count": null,
   "id": "505b0c24-80da-4d24-a2bc-7c11483e3ef1",
   "metadata": {},
   "outputs": [],
   "source": []
  },
  {
   "cell_type": "code",
   "execution_count": null,
   "id": "3c881d2f-2132-4762-aec1-7fd6912b9db4",
   "metadata": {},
   "outputs": [],
   "source": []
  },
  {
   "cell_type": "code",
   "execution_count": 16,
   "id": "e80d91e0-8f25-4524-a67e-d530292078f3",
   "metadata": {},
   "outputs": [],
   "source": [
    "# Q4 Self Parameter"
   ]
  },
  {
   "cell_type": "code",
   "execution_count": null,
   "id": "3d38fa5e-d2f4-4e5f-842d-7fe698715b46",
   "metadata": {},
   "outputs": [],
   "source": [
    "When we call a method of any object as MyObject.method(arg1, arg2), this is automatically converted by Python into\n",
    "MyClass.method(myobject, arg1,arg2) - this is all the special \"\"\" Self \"\"\" is all about\n",
    "\n",
    "\"\"\" Self can be any name ex: a,b,c,dfdsfd,efesd etc. "
   ]
  },
  {
   "cell_type": "code",
   "execution_count": null,
   "id": "86327ad2-6414-4b43-b58b-4290436c1580",
   "metadata": {},
   "outputs": [],
   "source": [
    "# Q5 Inheritance is absorbing property of parent class\n",
    "1. Multilabel \n",
    "class 1 >> class 2 >> class 3 \n",
    "\n",
    "class 3 will inherit class 1 property \n",
    "\n",
    "2. Multiple \n",
    "\n",
    "class1 >> class 3\n",
    "\n",
    "class2 >> class 3"
   ]
  }
 ],
 "metadata": {
  "kernelspec": {
   "display_name": "Python 3 (ipykernel)",
   "language": "python",
   "name": "python3"
  },
  "language_info": {
   "codemirror_mode": {
    "name": "ipython",
    "version": 3
   },
   "file_extension": ".py",
   "mimetype": "text/x-python",
   "name": "python",
   "nbconvert_exporter": "python",
   "pygments_lexer": "ipython3",
   "version": "3.11.7"
  }
 },
 "nbformat": 4,
 "nbformat_minor": 5
}
