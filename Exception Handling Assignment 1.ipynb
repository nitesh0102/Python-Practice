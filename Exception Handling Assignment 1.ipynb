{
 "cells": [
  {
   "cell_type": "code",
   "execution_count": 1,
   "id": "94dadf67-1722-42c4-9cd2-b65e397ce798",
   "metadata": {},
   "outputs": [],
   "source": [
    "## Q1"
   ]
  },
  {
   "cell_type": "markdown",
   "id": "a9bca78e-4277-4b33-87e2-d5dbcef9a7ed",
   "metadata": {},
   "source": [
    "Error in python can be of two types :\n",
    "1. Syntax Errors : Error in a programme are problems due to which the program will stop the exceution\n",
    "2. Exceptions : Exceptions are raised when some internal events occur which change the normal flow of the program. "
   ]
  },
  {
   "cell_type": "code",
   "execution_count": 3,
   "id": "29d6eed2-df71-4277-a3dc-b44a354d402b",
   "metadata": {},
   "outputs": [],
   "source": [
    "## Q2"
   ]
  },
  {
   "cell_type": "markdown",
   "id": "af4939e3-a833-4567-bb2d-c63b5d6757bd",
   "metadata": {},
   "source": [
    "When an exception is not handled the real output can vary from an actual output. \n",
    "Example : Type Error \n",
    "X = 10\n",
    "Y = 'a'\n",
    "\n",
    "z = X+Y"
   ]
  },
  {
   "cell_type": "code",
   "execution_count": 4,
   "id": "8cdc469d-530a-4eea-a8ad-fadf9c83ab9a",
   "metadata": {},
   "outputs": [],
   "source": [
    "## Q3"
   ]
  },
  {
   "cell_type": "code",
   "execution_count": 13,
   "id": "0dc376b8-cf38-4edb-ba8e-55ff64e45ba2",
   "metadata": {},
   "outputs": [
    {
     "name": "stdout",
     "output_type": "stream",
     "text": [
      "unsupported operand type(s) for +: 'int' and 'str'\n",
      "15\n"
     ]
    }
   ],
   "source": [
    "#try and except\n",
    "#Ex:\n",
    "X= 10\n",
    "Y ='5'\n",
    "try:\n",
    "    X+Y\n",
    "\n",
    "\n",
    "except TypeError as e:\n",
    "   print(e)\n",
    "finally:\n",
    "   print( X +int(Y))"
   ]
  },
  {
   "cell_type": "code",
   "execution_count": 14,
   "id": "6257f362-5d0b-412b-881f-237762abff08",
   "metadata": {},
   "outputs": [],
   "source": [
    "### Q4"
   ]
  },
  {
   "cell_type": "code",
   "execution_count": 15,
   "id": "3c45658c-1ea1-4e12-97ab-ab870de92e76",
   "metadata": {},
   "outputs": [
    {
     "name": "stdout",
     "output_type": "stream",
     "text": [
      "unsupported operand type(s) for +: 'int' and 'str'\n",
      "15\n"
     ]
    }
   ],
   "source": [
    "#Ex:\n",
    "X= 10\n",
    "Y ='5'\n",
    "try:\n",
    "    X+Y\n",
    "\n",
    "\n",
    "except TypeError as e:\n",
    "   print(e)\n",
    "finally:\n",
    "   print( X +int(Y))"
   ]
  },
  {
   "cell_type": "code",
   "execution_count": 16,
   "id": "e1114eaf-6c1d-413d-880b-087ca5d1d66b",
   "metadata": {},
   "outputs": [],
   "source": [
    "### Q5\n"
   ]
  },
  {
   "cell_type": "markdown",
   "id": "414bda45-04c8-42ad-893a-bdae60791af5",
   "metadata": {},
   "source": [
    "Custom Exceptions are exception which are exceptions for human but not for system for example when taking input from user for\n",
    "age, age can't be less than zero but this is not an system exception. "
   ]
  },
  {
   "cell_type": "code",
   "execution_count": 17,
   "id": "178c0f35-9f13-4203-b038-36d1dc9da5ed",
   "metadata": {},
   "outputs": [],
   "source": [
    "## Q6"
   ]
  },
  {
   "cell_type": "code",
   "execution_count": 20,
   "id": "17c1176a-0510-4414-bb2a-2a0db23b796e",
   "metadata": {},
   "outputs": [],
   "source": [
    "class validateMarks:\n",
    "    def __init__(self,msg):\n",
    "         self.msg = msg"
   ]
  },
  {
   "cell_type": "code",
   "execution_count": 21,
   "id": "2a7c2877-2e73-4c26-a2a3-821610ee864a",
   "metadata": {},
   "outputs": [],
   "source": [
    "def validate_marks(marks):\n",
    "    if marks < 0:\n",
    "        raise validateMarks(\"marks should not be less than zero\")\n",
    "    elif marks >100:\n",
    "        raise validateMarks(\"marks should not be greater than 100\")\n",
    "    else :\n",
    "        print(\"marks is valid\")\n",
    "        "
   ]
  },
  {
   "cell_type": "code",
   "execution_count": 24,
   "id": "48883fee-5298-48b6-8e47-008ffe65534e",
   "metadata": {},
   "outputs": [
    {
     "name": "stdin",
     "output_type": "stream",
     "text": [
      "please enter marks 32343\n"
     ]
    },
    {
     "ename": "TypeError",
     "evalue": "catching classes that do not inherit from BaseException is not allowed",
     "output_type": "error",
     "traceback": [
      "\u001b[1;31m---------------------------------------------------------------------------\u001b[0m",
      "\u001b[1;31mTypeError\u001b[0m                                 Traceback (most recent call last)",
      "Cell \u001b[1;32mIn[24], line 3\u001b[0m\n\u001b[0;32m      2\u001b[0m     marks \u001b[38;5;241m=\u001b[39m \u001b[38;5;28mint\u001b[39m(\u001b[38;5;28minput\u001b[39m(\u001b[38;5;124m\"\u001b[39m\u001b[38;5;124mplease enter marks\u001b[39m\u001b[38;5;124m\"\u001b[39m))\n\u001b[1;32m----> 3\u001b[0m     validate_marks(marks)\n\u001b[0;32m      4\u001b[0m \u001b[38;5;28;01mexcept\u001b[39;00m validateMarks \u001b[38;5;28;01mas\u001b[39;00m e:\n",
      "Cell \u001b[1;32mIn[21], line 5\u001b[0m, in \u001b[0;36mvalidate_marks\u001b[1;34m(marks)\u001b[0m\n\u001b[0;32m      4\u001b[0m \u001b[38;5;28;01melif\u001b[39;00m marks \u001b[38;5;241m>\u001b[39m\u001b[38;5;241m100\u001b[39m:\n\u001b[1;32m----> 5\u001b[0m     \u001b[38;5;28;01mraise\u001b[39;00m validateMarks(\u001b[38;5;124m\"\u001b[39m\u001b[38;5;124mmarks should not be greater than 100\u001b[39m\u001b[38;5;124m\"\u001b[39m)\n\u001b[0;32m      6\u001b[0m \u001b[38;5;28;01melse\u001b[39;00m :\n",
      "\u001b[1;31mTypeError\u001b[0m: exceptions must derive from BaseException",
      "\nDuring handling of the above exception, another exception occurred:\n",
      "\u001b[1;31mTypeError\u001b[0m                                 Traceback (most recent call last)",
      "Cell \u001b[1;32mIn[24], line 4\u001b[0m\n\u001b[0;32m      2\u001b[0m     marks \u001b[38;5;241m=\u001b[39m \u001b[38;5;28mint\u001b[39m(\u001b[38;5;28minput\u001b[39m(\u001b[38;5;124m\"\u001b[39m\u001b[38;5;124mplease enter marks\u001b[39m\u001b[38;5;124m\"\u001b[39m))\n\u001b[0;32m      3\u001b[0m     validate_marks(marks)\n\u001b[1;32m----> 4\u001b[0m \u001b[38;5;28;01mexcept\u001b[39;00m validateMarks \u001b[38;5;28;01mas\u001b[39;00m e:\n\u001b[0;32m      5\u001b[0m     \u001b[38;5;28mprint\u001b[39m(e)\n",
      "\u001b[1;31mTypeError\u001b[0m: catching classes that do not inherit from BaseException is not allowed"
     ]
    }
   ],
   "source": [
    "try :\n",
    "    marks = int(input(\"please enter marks\"))\n",
    "    validate_marks(marks)\n",
    "except validateMarks as e:\n",
    "    print(e)"
   ]
  },
  {
   "cell_type": "code",
   "execution_count": null,
   "id": "9c8bdb2b-bae8-4c98-81b3-b067cf7e4123",
   "metadata": {},
   "outputs": [],
   "source": []
  }
 ],
 "metadata": {
  "kernelspec": {
   "display_name": "Python 3 (ipykernel)",
   "language": "python",
   "name": "python3"
  },
  "language_info": {
   "codemirror_mode": {
    "name": "ipython",
    "version": 3
   },
   "file_extension": ".py",
   "mimetype": "text/x-python",
   "name": "python",
   "nbconvert_exporter": "python",
   "pygments_lexer": "ipython3",
   "version": "3.11.7"
  }
 },
 "nbformat": 4,
 "nbformat_minor": 5
}
