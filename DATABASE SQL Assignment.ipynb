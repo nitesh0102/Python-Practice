{
 "cells": [
  {
   "cell_type": "code",
   "execution_count": 1,
   "id": "d505cbfa-cfa6-4470-8f4b-6ffd1f89b94a",
   "metadata": {},
   "outputs": [],
   "source": [
    "## Q1"
   ]
  },
  {
   "cell_type": "markdown",
   "id": "12434c06-df51-4db9-81ab-3827b53affff",
   "metadata": {},
   "source": [
    "A database is a colletion of structured information or data, typically stored in a computer system. A database is usually controlled\n",
    "by a database managment system (DBMS).  Together the data and the dbms along with the applications \n",
    "that are associated with them are referred to as a database system often shortened to just database.\n"
   ]
  },
  {
   "cell_type": "code",
   "execution_count": null,
   "id": "bbdfdde9-739f-4432-9322-b7e122d6e2d5",
   "metadata": {},
   "outputs": [],
   "source": [
    "SQL - Structured data \n",
    "NOSQL - Not only SQL (Stores unstructured data as well) "
   ]
  },
  {
   "cell_type": "code",
   "execution_count": 2,
   "id": "b93f6d28-3a63-4adb-835b-2ab3115cf079",
   "metadata": {},
   "outputs": [],
   "source": [
    "### Q2"
   ]
  },
  {
   "cell_type": "markdown",
   "id": "b843f432-8959-404e-9dde-4e1d928845c3",
   "metadata": {},
   "source": [
    "DDL - Data Definition Language is a subset of SQL. It is a language for describing data and its relationship in a database. "
   ]
  },
  {
   "cell_type": "markdown",
   "id": "6d9c44dd-97aa-439e-944d-ce90f1568d7c",
   "metadata": {},
   "source": [
    "SQL Commands types: \n",
    "1. DDL - Data Defintion language\n",
    "2. DQL - Data Query language\n",
    "3. DML - Data Manipulation language\n",
    "4. DCL - Data Control language \n",
    "5. TCL - Transaction Control language "
   ]
  },
  {
   "cell_type": "markdown",
   "id": "ba9f08e1-fd83-4e61-ba64-79047dfbba39",
   "metadata": {},
   "source": [
    "List of DDL Commands: \n",
    "1. CREATE : create database or it's objects (table, index, functions, views, store procedure and triggers) \n",
    "ex: CREATE TABLE table_name (column1 data_type, column2 data_type)\n",
    "\n",
    "2. DROP - Delete objects from the database \n",
    "3. ALTER - Alter the structure of the database\n",
    "4. TRUNCATE - Remove all records from a table, including all spaces allotcated for the records are removed "
   ]
  },
  {
   "cell_type": "code",
   "execution_count": 5,
   "id": "99d3523f-f881-4e92-b3fd-5dd8f6f2e806",
   "metadata": {},
   "outputs": [],
   "source": [
    "### Q3"
   ]
  },
  {
   "cell_type": "markdown",
   "id": "cfc34aa0-8515-4663-913a-b083345a5a62",
   "metadata": {},
   "source": [
    "List of DML Commands: \n",
    "1. INSERT - insert data into a table\n",
    "ex: INSERT INTO table_name (column1, column2, .......) VALUES (value1,value2.......)\n",
    "\n",
    "2. UPDATE : update existing data within a table\n",
    "\n",
    "3. DELETE : Delete records from a table\n",
    "                                                        "
   ]
  },
  {
   "cell_type": "code",
   "execution_count": null,
   "id": "4971df39-21cc-4778-9b24-3b025cf2d88c",
   "metadata": {},
   "outputs": [],
   "source": []
  },
  {
   "cell_type": "code",
   "execution_count": 6,
   "id": "b7a67f61-eb66-40ad-bc93-35a48a2ada10",
   "metadata": {},
   "outputs": [],
   "source": [
    "### Q4"
   ]
  },
  {
   "cell_type": "markdown",
   "id": "93bb6855-148d-464d-9d88-2d601dc33bae",
   "metadata": {},
   "source": [
    "DQL : Data Query language\n",
    "There is only one DQL command in SQL i.e.\n",
    "\n",
    "    SELECT : it is used to retrieve data from the database "
   ]
  },
  {
   "cell_type": "code",
   "execution_count": null,
   "id": "9957ca39-5b87-4d2e-9e97-b31258992488",
   "metadata": {},
   "outputs": [],
   "source": []
  },
  {
   "cell_type": "code",
   "execution_count": 9,
   "id": "ca53a4db-1675-4ddd-91e7-d275532bd7ae",
   "metadata": {},
   "outputs": [],
   "source": [
    "### Q5"
   ]
  },
  {
   "cell_type": "markdown",
   "id": "0d1fca94-f77d-4a27-90f4-a33eac51ed67",
   "metadata": {},
   "source": [
    "Primary Key : primary keys serve as unique identifiers for each row in a database table. \n",
    "Foreign Keys : Link data in one table to the data in another table. "
   ]
  },
  {
   "cell_type": "code",
   "execution_count": null,
   "id": "c566c278-5852-45f1-9735-281579099e02",
   "metadata": {},
   "outputs": [],
   "source": []
  },
  {
   "cell_type": "code",
   "execution_count": 10,
   "id": "745587ea-5ffa-4852-a653-b072dcf7445f",
   "metadata": {},
   "outputs": [],
   "source": [
    "## Q6"
   ]
  },
  {
   "cell_type": "markdown",
   "id": "1597e65b-c23e-42b2-a441-9406e2678742",
   "metadata": {},
   "source": [
    "First we need to create a connection to the database\n",
    "\n",
    "import mysql.connector\n",
    "\n",
    "mydb = mysql.connector.connect(\n",
    "    host = 'abjbjbaj'\n",
    "    user = \"djsdjs\"\n",
    "    password = \"dnfdsnf\"\n",
    ")\n",
    "\n",
    "print (mydb)\n",
    "\n",
    "# now we can start querying the database using SQL statments. "
   ]
  },
  {
   "cell_type": "code",
   "execution_count": null,
   "id": "95cc60fe-386d-40f2-987b-198db50de60b",
   "metadata": {},
   "outputs": [],
   "source": []
  },
  {
   "cell_type": "code",
   "execution_count": 12,
   "id": "721da5d0-4c45-4b80-8c57-e6dfcf269b2a",
   "metadata": {},
   "outputs": [],
   "source": [
    "## Q7"
   ]
  },
  {
   "cell_type": "code",
   "execution_count": null,
   "id": "d97e1500-ec62-4d65-ae05-fc9f3f987b9e",
   "metadata": {},
   "outputs": [],
   "source": [
    "Order of execution in SQL Query \n"
   ]
  }
 ],
 "metadata": {
  "kernelspec": {
   "display_name": "Python 3 (ipykernel)",
   "language": "python",
   "name": "python3"
  },
  "language_info": {
   "codemirror_mode": {
    "name": "ipython",
    "version": 3
   },
   "file_extension": ".py",
   "mimetype": "text/x-python",
   "name": "python",
   "nbconvert_exporter": "python",
   "pygments_lexer": "ipython3",
   "version": "3.11.7"
  }
 },
 "nbformat": 4,
 "nbformat_minor": 5
}
