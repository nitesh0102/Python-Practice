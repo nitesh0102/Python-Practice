{
 "cells": [
  {
   "cell_type": "code",
   "execution_count": 1,
   "id": "ac6f70d8-b2c8-4236-b763-4bd36940e128",
   "metadata": {},
   "outputs": [],
   "source": [
    "#Q1"
   ]
  },
  {
   "cell_type": "code",
   "execution_count": 18,
   "id": "31b53583-6aa7-4aad-8f0b-c40f5e4b22b0",
   "metadata": {},
   "outputs": [],
   "source": [
    "list1 = [('s',4343),('b',43543),('c',434332),('d',434)]"
   ]
  },
  {
   "cell_type": "raw",
   "id": "b2b7534a-b4c1-4e66-8962-b9a7e4f4c625",
   "metadata": {},
   "source": [
    "list1"
   ]
  },
  {
   "cell_type": "code",
   "execution_count": 22,
   "id": "4decf240-f591-42d7-9fc8-c7e776451780",
   "metadata": {},
   "outputs": [],
   "source": [
    "list1.sort()"
   ]
  },
  {
   "cell_type": "code",
   "execution_count": 16,
   "id": "187f7111-2ed6-41e4-a413-fd1dea1bb0e4",
   "metadata": {},
   "outputs": [
    {
     "data": {
      "text/plain": [
       "[('b', 43543), ('c', 434332), ('d', 434), ('s', 4343)]"
      ]
     },
     "execution_count": 16,
     "metadata": {},
     "output_type": "execute_result"
    }
   ],
   "source": [
    "list1"
   ]
  },
  {
   "cell_type": "code",
   "execution_count": 20,
   "id": "e876ac86-34fb-4c72-8d31-5a5afe302cf4",
   "metadata": {},
   "outputs": [
    {
     "data": {
      "text/plain": [
       "[('b', 43543), ('c', 434332), ('d', 434), ('s', 4343)]"
      ]
     },
     "execution_count": 20,
     "metadata": {},
     "output_type": "execute_result"
    }
   ],
   "source": [
    "sorted(list1)"
   ]
  },
  {
   "cell_type": "code",
   "execution_count": 23,
   "id": "f370d3c6-badf-4f28-8410-ce9adb869e25",
   "metadata": {},
   "outputs": [
    {
     "data": {
      "text/plain": [
       "[('b', 43543), ('c', 434332), ('d', 434), ('s', 4343)]"
      ]
     },
     "execution_count": 23,
     "metadata": {},
     "output_type": "execute_result"
    }
   ],
   "source": [
    "list1"
   ]
  },
  {
   "cell_type": "code",
   "execution_count": 55,
   "id": "8792fad7-4a65-478c-ba96-a636383b5523",
   "metadata": {},
   "outputs": [],
   "source": [
    "list1 = [('srdfd',4343,23,232),('bfdfd',43543,3,4),('fdfdgrc',434332,443,3),('rgtrfdd',434,5,65)]"
   ]
  },
  {
   "cell_type": "code",
   "execution_count": 51,
   "id": "e4e4d7f6-d46a-4ef4-862f-17ce15404885",
   "metadata": {},
   "outputs": [
    {
     "data": {
      "text/plain": [
       "[('srdfd', 4343, 23, 232),\n",
       " ('bfdfd', 43543, 3, 'rr'),\n",
       " ('fdfdgrc', 434332, 443, 3),\n",
       " ('rgtrfdd', 434, 5, 65)]"
      ]
     },
     "execution_count": 51,
     "metadata": {},
     "output_type": "execute_result"
    }
   ],
   "source": [
    "list1"
   ]
  },
  {
   "cell_type": "code",
   "execution_count": 56,
   "id": "80a4b3c0-8123-47ea-8f50-f5b517752adf",
   "metadata": {},
   "outputs": [],
   "source": [
    "list1.sort(key = lambda list1 : list1[3])"
   ]
  },
  {
   "cell_type": "code",
   "execution_count": 57,
   "id": "ff8f3b94-91d1-4587-91ae-9281e49d1d89",
   "metadata": {},
   "outputs": [
    {
     "data": {
      "text/plain": [
       "[('fdfdgrc', 434332, 443, 3),\n",
       " ('bfdfd', 43543, 3, 4),\n",
       " ('rgtrfdd', 434, 5, 65),\n",
       " ('srdfd', 4343, 23, 232)]"
      ]
     },
     "execution_count": 57,
     "metadata": {},
     "output_type": "execute_result"
    }
   ],
   "source": [
    "list1"
   ]
  },
  {
   "cell_type": "code",
   "execution_count": 33,
   "id": "43d0b54f-0dec-49aa-b32e-6cda7418075a",
   "metadata": {},
   "outputs": [
    {
     "data": {
      "text/plain": [
       "('srdfd', 4343)"
      ]
     },
     "execution_count": 33,
     "metadata": {},
     "output_type": "execute_result"
    }
   ],
   "source": [
    "list1[1]"
   ]
  },
  {
   "cell_type": "code",
   "execution_count": 58,
   "id": "f5b171f1-62b9-41d9-b02b-71d93c9766c4",
   "metadata": {},
   "outputs": [],
   "source": [
    "####################"
   ]
  },
  {
   "cell_type": "code",
   "execution_count": 59,
   "id": "be79bba8-b811-41d0-9d10-327545b62922",
   "metadata": {},
   "outputs": [],
   "source": [
    "#Q2"
   ]
  },
  {
   "cell_type": "code",
   "execution_count": 60,
   "id": "e607d6a4-6caa-4af8-9977-8dd19b2e0791",
   "metadata": {},
   "outputs": [],
   "source": [
    "l1 = [1,2,3,4,5,6,7,8,9,10]"
   ]
  },
  {
   "cell_type": "code",
   "execution_count": 71,
   "id": "d2c2d6f9-8175-40b1-b5e4-be3a5e045e7e",
   "metadata": {},
   "outputs": [],
   "source": [
    "sq = lambda x : x**x"
   ]
  },
  {
   "cell_type": "code",
   "execution_count": 72,
   "id": "3abdfa1a-8f70-4a36-a6d8-b6d798f5a7f4",
   "metadata": {},
   "outputs": [
    {
     "data": {
      "text/plain": [
       "[1, 4, 27, 256, 3125, 46656, 823543, 16777216, 387420489, 10000000000]"
      ]
     },
     "execution_count": 72,
     "metadata": {},
     "output_type": "execute_result"
    }
   ],
   "source": [
    "list(map(sq,l1))"
   ]
  },
  {
   "cell_type": "code",
   "execution_count": 73,
   "id": "84437275-8f12-41fb-8ca0-23300d6da01d",
   "metadata": {},
   "outputs": [],
   "source": [
    "##########"
   ]
  },
  {
   "cell_type": "code",
   "execution_count": 74,
   "id": "7b429fe9-e7d9-4d1d-aea4-68df3cf6a980",
   "metadata": {},
   "outputs": [],
   "source": [
    "#Q3"
   ]
  },
  {
   "cell_type": "code",
   "execution_count": 75,
   "id": "8596ff5f-b3ed-4cf9-9319-699329f14f33",
   "metadata": {},
   "outputs": [],
   "source": [
    "type_c = lambda x : str(x)"
   ]
  },
  {
   "cell_type": "code",
   "execution_count": 76,
   "id": "83557c96-0f36-4867-a170-3f6d8e9d4348",
   "metadata": {},
   "outputs": [
    {
     "data": {
      "text/plain": [
       "('1', '2', '3', '4', '5', '6', '7', '8', '9', '10')"
      ]
     },
     "execution_count": 76,
     "metadata": {},
     "output_type": "execute_result"
    }
   ],
   "source": [
    "tuple(map(type_c,l1))"
   ]
  },
  {
   "cell_type": "code",
   "execution_count": 77,
   "id": "8b881df6-549e-46ae-827f-7956110e1f6f",
   "metadata": {},
   "outputs": [],
   "source": [
    "########"
   ]
  },
  {
   "cell_type": "code",
   "execution_count": 78,
   "id": "cf872092-3855-4650-92ab-e58ce20c68d9",
   "metadata": {},
   "outputs": [],
   "source": [
    "#Q4"
   ]
  },
  {
   "cell_type": "code",
   "execution_count": 82,
   "id": "fc4ac7ea-93c2-41f4-b7f6-71b57118b968",
   "metadata": {},
   "outputs": [],
   "source": [
    "l1 = list(range(1,26))"
   ]
  },
  {
   "cell_type": "code",
   "execution_count": 81,
   "id": "3435e4ef-636c-4b2e-87b9-7423ef4de2c7",
   "metadata": {},
   "outputs": [
    {
     "data": {
      "text/plain": [
       "[1,\n",
       " 2,\n",
       " 3,\n",
       " 4,\n",
       " 5,\n",
       " 6,\n",
       " 7,\n",
       " 8,\n",
       " 9,\n",
       " 10,\n",
       " 11,\n",
       " 12,\n",
       " 13,\n",
       " 14,\n",
       " 15,\n",
       " 16,\n",
       " 17,\n",
       " 18,\n",
       " 19,\n",
       " 20,\n",
       " 21,\n",
       " 22,\n",
       " 23,\n",
       " 24]"
      ]
     },
     "execution_count": 81,
     "metadata": {},
     "output_type": "execute_result"
    }
   ],
   "source": [
    "l1"
   ]
  },
  {
   "cell_type": "code",
   "execution_count": 87,
   "id": "2aed9896-077f-455d-916d-42e0b1bb2b12",
   "metadata": {},
   "outputs": [],
   "source": [
    "from functools import reduce "
   ]
  },
  {
   "cell_type": "code",
   "execution_count": 98,
   "id": "c1c73ec6-28d8-4aea-946e-e0348ccea6e5",
   "metadata": {},
   "outputs": [
    {
     "data": {
      "text/plain": [
       "190"
      ]
     },
     "execution_count": 98,
     "metadata": {},
     "output_type": "execute_result"
    }
   ],
   "source": [
    "reduce(lambda x,y : x*y, range(1,26,9))"
   ]
  },
  {
   "cell_type": "code",
   "execution_count": 105,
   "id": "df434953-b433-4890-8410-f8ed9a96bb38",
   "metadata": {},
   "outputs": [],
   "source": [
    "##########"
   ]
  },
  {
   "cell_type": "code",
   "execution_count": null,
   "id": "dfbacbd6-503b-4f91-9d63-b21fa2dbda1d",
   "metadata": {},
   "outputs": [],
   "source": [
    "#Q5"
   ]
  },
  {
   "cell_type": "code",
   "execution_count": 100,
   "id": "74a7851d-1431-40bc-8a5a-a244e7320cbb",
   "metadata": {},
   "outputs": [],
   "source": [
    "l2 = [2,3,6,9,27,60,90,120,55,46]"
   ]
  },
  {
   "cell_type": "code",
   "execution_count": 104,
   "id": "6d9a5dcb-b209-4144-83db-f769c0df65c5",
   "metadata": {},
   "outputs": [
    {
     "data": {
      "text/plain": [
       "[6, 60, 90, 120]"
      ]
     },
     "execution_count": 104,
     "metadata": {},
     "output_type": "execute_result"
    }
   ],
   "source": [
    "list(filter(lambda x : ((x%2 == 0 and x%3 == 0)),l2))"
   ]
  },
  {
   "cell_type": "code",
   "execution_count": 106,
   "id": "3bc96f86-937c-4506-931d-dda8a662754e",
   "metadata": {},
   "outputs": [],
   "source": [
    "############"
   ]
  },
  {
   "cell_type": "code",
   "execution_count": 107,
   "id": "1ee9fa37-5c07-4da5-975d-c383cfe25fff",
   "metadata": {},
   "outputs": [],
   "source": [
    "#Q6"
   ]
  },
  {
   "cell_type": "code",
   "execution_count": 115,
   "id": "4fb445b8-3d28-4d1a-a8cf-9d26ec1e9415",
   "metadata": {},
   "outputs": [],
   "source": [
    "x = ['edheuueh','python','php','aba','radar','level']"
   ]
  },
  {
   "cell_type": "code",
   "execution_count": 113,
   "id": "7cd8cb13-21d1-498d-b6d7-e9c406655526",
   "metadata": {},
   "outputs": [],
   "source": []
  },
  {
   "cell_type": "code",
   "execution_count": 114,
   "id": "4a0469b2-956e-418b-8625-f9afb1a2be1a",
   "metadata": {},
   "outputs": [
    {
     "data": {
      "text/plain": [
       "['level', 'radar', 'aba', 'php', 'python', 'edheuueh']"
      ]
     },
     "execution_count": 114,
     "metadata": {},
     "output_type": "execute_result"
    }
   ],
   "source": [
    "x"
   ]
  },
  {
   "cell_type": "code",
   "execution_count": 116,
   "id": "27c0b237-92c9-40c8-a1ca-d4337365776f",
   "metadata": {},
   "outputs": [
    {
     "data": {
      "text/plain": [
       "['php', 'aba', 'radar', 'level']"
      ]
     },
     "execution_count": 116,
     "metadata": {},
     "output_type": "execute_result"
    }
   ],
   "source": [
    "list(filter(lambda x : x == x[::-1],x))"
   ]
  },
  {
   "cell_type": "code",
   "execution_count": null,
   "id": "bde66bad-a25e-4274-9dcd-568259cc09dc",
   "metadata": {},
   "outputs": [],
   "source": []
  }
 ],
 "metadata": {
  "kernelspec": {
   "display_name": "Python 3 (ipykernel)",
   "language": "python",
   "name": "python3"
  },
  "language_info": {
   "codemirror_mode": {
    "name": "ipython",
    "version": 3
   },
   "file_extension": ".py",
   "mimetype": "text/x-python",
   "name": "python",
   "nbconvert_exporter": "python",
   "pygments_lexer": "ipython3",
   "version": "3.11.7"
  }
 },
 "nbformat": 4,
 "nbformat_minor": 5
}
