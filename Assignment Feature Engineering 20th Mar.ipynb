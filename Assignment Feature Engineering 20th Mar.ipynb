{
 "cells": [
  {
   "cell_type": "code",
   "execution_count": 1,
   "id": "a42e0650-e2f1-4b30-baeb-260b619d2813",
   "metadata": {},
   "outputs": [],
   "source": [
    "#Q1"
   ]
  },
  {
   "cell_type": "code",
   "execution_count": null,
   "id": "9c88aeef-a26d-4417-a432-ad54ede7b0fc",
   "metadata": {},
   "outputs": [],
   "source": [
    "Data encoding is a technique to convert categorical data into numerical data to make it useful for machine learning models. "
   ]
  },
  {
   "cell_type": "code",
   "execution_count": null,
   "id": "abc26044-3d35-450d-9da9-93ca94867bd8",
   "metadata": {},
   "outputs": [],
   "source": []
  },
  {
   "cell_type": "code",
   "execution_count": 1,
   "id": "9f495b1f-5278-4d9a-80cd-9a156ebefca0",
   "metadata": {},
   "outputs": [],
   "source": [
    "#Q2"
   ]
  },
  {
   "cell_type": "code",
   "execution_count": null,
   "id": "ec87c649-4247-4c4d-916c-67aeca433eae",
   "metadata": {},
   "outputs": [],
   "source": [
    "Nominal Encoding : Nomical Encdoing also called as one hot encoding. It doesn't have an inheent order or ranking. \n",
    "Ex : cat, dog,zebra "
   ]
  },
  {
   "cell_type": "code",
   "execution_count": null,
   "id": "fdf52b05-2487-4ac9-b7c6-7eab00a36f00",
   "metadata": {},
   "outputs": [],
   "source": []
  },
  {
   "cell_type": "code",
   "execution_count": 2,
   "id": "6d37bf63-7bbc-4895-a7b6-39eb34eac14f",
   "metadata": {},
   "outputs": [],
   "source": [
    "#Q3"
   ]
  },
  {
   "cell_type": "code",
   "execution_count": null,
   "id": "2f4727f2-4803-4e2c-831e-ba674735ba90",
   "metadata": {},
   "outputs": [],
   "source": [
    "OHE and nominal are same. ordinal have an inherent order of ranking. "
   ]
  },
  {
   "cell_type": "code",
   "execution_count": null,
   "id": "bd9ad01c-ec37-4a10-a41d-467c44ac3e16",
   "metadata": {},
   "outputs": [],
   "source": []
  },
  {
   "cell_type": "code",
   "execution_count": 3,
   "id": "227bbfb7-e593-46d5-8669-f1f4385356ad",
   "metadata": {},
   "outputs": [],
   "source": [
    "#Q4"
   ]
  },
  {
   "cell_type": "code",
   "execution_count": null,
   "id": "68bcc997-c3a6-4fa8-ace9-e668db123b3d",
   "metadata": {},
   "outputs": [],
   "source": [
    "OHE as only 5 unique values are there. "
   ]
  },
  {
   "cell_type": "code",
   "execution_count": null,
   "id": "bfd31c80-ee2d-4f45-a1c8-e35e55c7ae5e",
   "metadata": {},
   "outputs": [],
   "source": []
  },
  {
   "cell_type": "code",
   "execution_count": 5,
   "id": "6fdae908-aac0-4f5f-9d7f-da5d726db9a6",
   "metadata": {},
   "outputs": [],
   "source": [
    "#Q5"
   ]
  },
  {
   "cell_type": "code",
   "execution_count": null,
   "id": "839f193e-1c12-4e72-a5bd-c70db85b5c60",
   "metadata": {},
   "outputs": [],
   "source": [
    "Total number of Unique Values = column Expanded"
   ]
  },
  {
   "cell_type": "code",
   "execution_count": null,
   "id": "dde68167-ddb6-47cc-b5d9-76303182c97a",
   "metadata": {},
   "outputs": [],
   "source": []
  },
  {
   "cell_type": "code",
   "execution_count": 6,
   "id": "2f69f390-5d4e-435a-bb7a-45b03076969a",
   "metadata": {},
   "outputs": [],
   "source": [
    "#Q6"
   ]
  },
  {
   "cell_type": "code",
   "execution_count": null,
   "id": "3fdf84ee-afbd-48f6-ab5f-4b9baa111fe0",
   "metadata": {},
   "outputs": [],
   "source": [
    "Nominal Encodin"
   ]
  }
 ],
 "metadata": {
  "kernelspec": {
   "display_name": "Python 3 (ipykernel)",
   "language": "python",
   "name": "python3"
  },
  "language_info": {
   "codemirror_mode": {
    "name": "ipython",
    "version": 3
   },
   "file_extension": ".py",
   "mimetype": "text/x-python",
   "name": "python",
   "nbconvert_exporter": "python",
   "pygments_lexer": "ipython3",
   "version": "3.11.7"
  }
 },
 "nbformat": 4,
 "nbformat_minor": 5
}
