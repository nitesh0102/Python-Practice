{
 "cells": [
  {
   "cell_type": "code",
   "execution_count": 1,
   "id": "924da90b-61d1-4c67-b000-ef42d39aea98",
   "metadata": {},
   "outputs": [],
   "source": [
    "# Multiple chareteristics \n"
   ]
  },
  {
   "cell_type": "code",
   "execution_count": 2,
   "id": "2ba8823f-ef36-48b0-a9af-9b97b065aaf6",
   "metadata": {},
   "outputs": [],
   "source": [
    "def test(a,b):\n",
    "    return a+b "
   ]
  },
  {
   "cell_type": "code",
   "execution_count": 3,
   "id": "d1803795-c412-43ad-8574-4a29268425fb",
   "metadata": {},
   "outputs": [
    {
     "data": {
      "text/plain": [
       "9"
      ]
     },
     "execution_count": 3,
     "metadata": {},
     "output_type": "execute_result"
    }
   ],
   "source": [
    "test(4,5)"
   ]
  },
  {
   "cell_type": "code",
   "execution_count": 5,
   "id": "cf0e466b-030a-48fc-981f-654311fe1227",
   "metadata": {},
   "outputs": [
    {
     "data": {
      "text/plain": [
       "'xy'"
      ]
     },
     "execution_count": 5,
     "metadata": {},
     "output_type": "execute_result"
    }
   ],
   "source": [
    "test(\"x\",\"y\")"
   ]
  },
  {
   "cell_type": "code",
   "execution_count": 6,
   "id": "7f138928-47af-4df6-b1eb-944bb6d68b4f",
   "metadata": {},
   "outputs": [],
   "source": [
    "# same function behaved in a different way "
   ]
  },
  {
   "cell_type": "code",
   "execution_count": 7,
   "id": "5342f4a7-8b46-4c41-b939-84c5f8dfd73e",
   "metadata": {},
   "outputs": [
    {
     "data": {
      "text/plain": [
       "[2, 4, 5, 5, 3, 3, 5, 5]"
      ]
     },
     "execution_count": 7,
     "metadata": {},
     "output_type": "execute_result"
    }
   ],
   "source": [
    "test([2,4,5,5],[3,3,5,5])"
   ]
  },
  {
   "cell_type": "markdown",
   "id": "d914f07e-bb4a-463a-9b03-94a17e79a36e",
   "metadata": {},
   "source": [
    "#############################"
   ]
  },
  {
   "cell_type": "code",
   "execution_count": 8,
   "id": "932ac2b1-6e58-4c8f-9f2d-238530025613",
   "metadata": {},
   "outputs": [],
   "source": [
    "class data_science:\n",
    "\n",
    "    def syllabus(self):\n",
    "        print(\"this is my method for data science syllabus\")"
   ]
  },
  {
   "cell_type": "code",
   "execution_count": 9,
   "id": "de5ca216-e317-4030-b4de-9a29843e04cc",
   "metadata": {},
   "outputs": [],
   "source": [
    "class web_dev:\n",
    "\n",
    "    def syllabus(self):\n",
    "        print(\"this is my method for web dev syllabus\")"
   ]
  },
  {
   "cell_type": "code",
   "execution_count": 10,
   "id": "bd0573b3-5cf5-480c-bc4b-9cdc907ef20c",
   "metadata": {},
   "outputs": [],
   "source": [
    "def class_parcer(class_obj):\n",
    "    for i in class_obj:\n",
    "        i.syllabus()"
   ]
  },
  {
   "cell_type": "code",
   "execution_count": 11,
   "id": "295e1a27-be43-49f7-9a03-dcac3e602a63",
   "metadata": {},
   "outputs": [],
   "source": [
    "obj_data_science = data_science()"
   ]
  },
  {
   "cell_type": "code",
   "execution_count": 12,
   "id": "81e5c6db-54e6-45c4-ab95-19013ce04c34",
   "metadata": {},
   "outputs": [],
   "source": [
    "obj_web_dev = web_dev()"
   ]
  },
  {
   "cell_type": "code",
   "execution_count": 13,
   "id": "c61b2b8e-1d5e-4950-8e2e-b09e276fcd07",
   "metadata": {},
   "outputs": [],
   "source": [
    "class_obj = [obj_data_science,obj_web_dev]"
   ]
  },
  {
   "cell_type": "code",
   "execution_count": 14,
   "id": "c57ce702-a2ea-4d27-9693-3c4959107c23",
   "metadata": {},
   "outputs": [
    {
     "name": "stdout",
     "output_type": "stream",
     "text": [
      "this is my method for data science syllabus\n",
      "this is my method for web dev syllabus\n"
     ]
    }
   ],
   "source": [
    "class_parcer(class_obj)"
   ]
  },
  {
   "cell_type": "code",
   "execution_count": null,
   "id": "2f5515ce-3726-4d48-a26b-769e8241bf27",
   "metadata": {},
   "outputs": [],
   "source": []
  }
 ],
 "metadata": {
  "kernelspec": {
   "display_name": "Python 3 (ipykernel)",
   "language": "python",
   "name": "python3"
  },
  "language_info": {
   "codemirror_mode": {
    "name": "ipython",
    "version": 3
   },
   "file_extension": ".py",
   "mimetype": "text/x-python",
   "name": "python",
   "nbconvert_exporter": "python",
   "pygments_lexer": "ipython3",
   "version": "3.11.7"
  }
 },
 "nbformat": 4,
 "nbformat_minor": 5
}
