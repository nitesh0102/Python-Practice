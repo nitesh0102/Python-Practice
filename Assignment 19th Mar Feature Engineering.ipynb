{
 "cells": [
  {
   "cell_type": "code",
   "execution_count": 1,
   "id": "764a50ac-1a90-4dab-9674-59fe85e27607",
   "metadata": {},
   "outputs": [],
   "source": [
    "#Q1"
   ]
  },
  {
   "cell_type": "code",
   "execution_count": null,
   "id": "8ad1c6b5-88ba-437d-912f-a485e944c407",
   "metadata": {},
   "outputs": [],
   "source": [
    "Min Max Scaling : Min Max scaling is part of data transformation which scales the feature between the range (0,1)"
   ]
  },
  {
   "cell_type": "code",
   "execution_count": null,
   "id": "8749e43a-f621-418e-bf5e-0016781f4172",
   "metadata": {},
   "outputs": [],
   "source": []
  },
  {
   "cell_type": "code",
   "execution_count": 2,
   "id": "78d1b487-bd69-4a77-acb9-831aaee8e4b2",
   "metadata": {},
   "outputs": [],
   "source": [
    "#Q2"
   ]
  },
  {
   "cell_type": "code",
   "execution_count": null,
   "id": "5caeeffb-7927-471b-bb86-f9a364939cb7",
   "metadata": {},
   "outputs": [],
   "source": [
    "Unit Vector scaling is dividing the features by repsctive magnitude, unit vector values can be negative but min max range is always between (0,1)"
   ]
  },
  {
   "cell_type": "code",
   "execution_count": null,
   "id": "6e083172-64b6-439b-92e9-acee6138cab5",
   "metadata": {},
   "outputs": [],
   "source": []
  },
  {
   "cell_type": "code",
   "execution_count": 3,
   "id": "2d8188d0-bd59-48bb-adcc-905103848598",
   "metadata": {},
   "outputs": [],
   "source": [
    "#Q3"
   ]
  },
  {
   "cell_type": "code",
   "execution_count": null,
   "id": "52b5b39e-0a67-4c62-9d5e-b91751519abf",
   "metadata": {},
   "outputs": [],
   "source": [
    "PCA : Principal component analysis reduces the dimensionality in large datasets to principal components that retain most of \n",
    "the original information. It does this by transforming potentially correlated variables into a smaller set of variables,called principal components. "
   ]
  },
  {
   "cell_type": "code",
   "execution_count": null,
   "id": "e7aaec8e-c90d-447f-8c38-cc22f3671982",
   "metadata": {},
   "outputs": [],
   "source": [
    "As the number of features or dimensions in a dataset increases, the amount of data required to obtain a statistically significant result increases exponentially. \n",
    "This can lead to issues such as overfitting, increased computation time, and reduced accuracy of machine learning models this is known as the curse of dimensionality problems that arise while working with high-dimensional data"
   ]
  },
  {
   "cell_type": "code",
   "execution_count": null,
   "id": "b51a94f0-f91f-4263-ad9f-3af9ad83ff80",
   "metadata": {},
   "outputs": [],
   "source": [
    " dimensionality reduction techniques i.e. Principal Component Analysis(PCA)."
   ]
  },
  {
   "cell_type": "code",
   "execution_count": null,
   "id": "e7104444-cb3b-4aba-8cac-a5fa1a5a5992",
   "metadata": {},
   "outputs": [],
   "source": [
    "PCA works on the condtion that when data from higher dimesional space is mapped to lower dimensional space, the variance of the \n",
    "data in lower dimensional space should be maximum. "
   ]
  },
  {
   "cell_type": "code",
   "execution_count": null,
   "id": "9cdf45d1-d815-4647-8c37-34c3d4bab52c",
   "metadata": {},
   "outputs": [],
   "source": [
    "PCA is a statistical procedure that uses an orthogonal transformation that converts a set of co-realted variables to \n",
    "a set of un correlated variables. "
   ]
  },
  {
   "cell_type": "code",
   "execution_count": null,
   "id": "408345dc-2270-4f1e-8f92-e0649943e208",
   "metadata": {},
   "outputs": [],
   "source": [
    "PCA is an unsupervised learning algorithm technique used to examine the interrelation among a set of variables. "
   ]
  },
  {
   "cell_type": "code",
   "execution_count": null,
   "id": "c2fab276-ae62-4ef4-9c5f-1601fc33c87d",
   "metadata": {},
   "outputs": [],
   "source": [
    "The main of PCA is to reduce the dimensionality of a dataset while preserving the most important patterns or relationship between \n",
    "the variables without any prior knowledge of the target variables. "
   ]
  },
  {
   "cell_type": "code",
   "execution_count": null,
   "id": "c50f41b8-c4c2-4f4e-9ad9-70fa47446a6a",
   "metadata": {},
   "outputs": [],
   "source": [
    "PCA is used to reduce the dimensionality of the dataset by finding new set of variables,smaller than the original set of variables,\n",
    "retaining most of the sample's information and useful for the regression and classification of the data. "
   ]
  },
  {
   "cell_type": "code",
   "execution_count": null,
   "id": "9ca06d44-c721-4ac1-80ee-cc4ffe9f2bbf",
   "metadata": {},
   "outputs": [],
   "source": []
  },
  {
   "cell_type": "code",
   "execution_count": null,
   "id": "ca33f701-c6c9-4cfe-baf3-62610263bc42",
   "metadata": {},
   "outputs": [],
   "source": []
  },
  {
   "cell_type": "code",
   "execution_count": 5,
   "id": "b864a903-cc91-4d09-91f4-cde70542e05c",
   "metadata": {},
   "outputs": [],
   "source": [
    "#Q4"
   ]
  },
  {
   "cell_type": "code",
   "execution_count": null,
   "id": "49cfc820-31c9-4a5c-92ef-4280e4806075",
   "metadata": {},
   "outputs": [],
   "source": [
    "PCA can also be used to derive new features or elements from the original data that might be more insightful or understandable than the original features. \n",
    "This is particularly helpful when the initial features are correlated or noisy."
   ]
  },
  {
   "cell_type": "code",
   "execution_count": null,
   "id": "009ecc61-3295-46c8-b018-8488d8da2d9f",
   "metadata": {},
   "outputs": [],
   "source": [
    "Step by Step Explanation of PCA:"
   ]
  },
  {
   "cell_type": "code",
   "execution_count": null,
   "id": "e672c317-4e85-4db2-a158-245d22c95323",
   "metadata": {},
   "outputs": [],
   "source": [
    "Step 1: Standardization    \n",
    "First we need to standardize our dataset to ensure that each variable has a mean of 0 and a standard deviation of 1. \n",
    "Z = (X-mean)/SD"
   ]
  },
  {
   "cell_type": "code",
   "execution_count": null,
   "id": "33e05f1b-7af8-4c59-8871-3b4c44ab1ef6",
   "metadata": {},
   "outputs": [],
   "source": [
    "Step 2: Covariance Matrix Computation\n",
    "\n",
    "Covariance measures the strength of joint variability between two or more variables, \n",
    "indicating how much they change in relation to each other. To find the covariance we can use the formula:\n",
    "\n",
    "cov(x1,x2)= ∑ i=1 n (x1i−x1ˉ)(x2i − x2ˉ) / n-1\n",
    "\n",
    "refer : https://www.geeksforgeeks.org/principal-component-analysis-pca/"
   ]
  },
  {
   "cell_type": "code",
   "execution_count": null,
   "id": "7494756a-0f8e-440b-b5e8-124a71b4f4e5",
   "metadata": {},
   "outputs": [],
   "source": [
    "Step 3: Compute Eigenvalues and EigenVectors of covariance matrix to identify principal components\n",
    "\n",
    "\n",
    "Let A be a square nXn matrix and X be a non-zero vector for which \n",
    "\n",
    "A\n",
    "X\n",
    "=\n",
    "λ\n",
    "X\n",
    "AX=λX\n",
    "\n",
    "for some scalar values \n",
    "λ\n",
    "λ. then \n",
    "λ\n",
    "λ is known as the eigenvalue of matrix A and X is known as the eigenvector of matrix A for the corresponding eigenvalue.\n",
    "\n",
    "It can also be written as :\n",
    "\n",
    "A\n",
    "X\n",
    "−\n",
    "λ\n",
    "X\n",
    "=\n",
    "0\n",
    "(\n",
    "A\n",
    "−\n",
    "λ\n",
    "I\n",
    ")\n",
    "X\n",
    "=\n",
    "0\n",
    "AX−λX\n",
    "(A−λI)X\n",
    "​\n",
    "  \n",
    "=0\n",
    "=0\n",
    "​\n",
    " \n",
    "\n",
    "where I am the identity matrix of the same shape as matrix A. And the above conditions will be true only if \n",
    "(\n",
    "A\n",
    "–\n",
    "λ\n",
    "I\n",
    ")\n",
    "(A–λI) will be non-invertible (i.e. singular matrix). That means,\n",
    "\n",
    "∣\n",
    "A\n",
    "–\n",
    "λ\n",
    "I\n",
    "∣\n",
    "=\n",
    "0\n",
    "∣A–λI∣=0\n",
    "\n",
    "From the above equation, we can find the eigenvalues \\lambda, and therefore corresponding eigenvector can be found using the equation \n",
    "A\n",
    "X\n",
    "=\n",
    "λ\n",
    "X\n",
    "AX=λX."
   ]
  },
  {
   "cell_type": "code",
   "execution_count": null,
   "id": "eec78662-4bfb-44a9-af13-84ece3bf62f0",
   "metadata": {},
   "outputs": [],
   "source": []
  },
  {
   "cell_type": "code",
   "execution_count": 6,
   "id": "d6f05ea6-ba13-4867-bfae-a0044c2c0d8a",
   "metadata": {},
   "outputs": [],
   "source": [
    "#Q5"
   ]
  },
  {
   "cell_type": "code",
   "execution_count": null,
   "id": "4b5f361a-f958-4ac5-8140-e76ed43340cb",
   "metadata": {},
   "outputs": [],
   "source": [
    "Min Max Scaling  = (X - Xmin) / Xmax - Xmin "
   ]
  },
  {
   "cell_type": "code",
   "execution_count": 7,
   "id": "ac7e9105-6d2a-4dee-99a5-187fce55c395",
   "metadata": {},
   "outputs": [],
   "source": [
    "#Q6"
   ]
  },
  {
   "cell_type": "code",
   "execution_count": null,
   "id": "efe0b38b-b269-4b74-9a45-97bbc143bc32",
   "metadata": {},
   "outputs": [],
   "source": [
    "Use the 3 above mentioned steps"
   ]
  },
  {
   "cell_type": "code",
   "execution_count": null,
   "id": "c39faef7-9e0e-454c-bb14-d8055386d109",
   "metadata": {},
   "outputs": [],
   "source": []
  },
  {
   "cell_type": "code",
   "execution_count": 8,
   "id": "16ba05ad-cee9-46ef-9ccb-a5ec0ae0bb2a",
   "metadata": {},
   "outputs": [],
   "source": [
    "#Q7"
   ]
  },
  {
   "cell_type": "code",
   "execution_count": 22,
   "id": "0fe6104f-c05e-44c0-b96f-9e43f8991585",
   "metadata": {},
   "outputs": [],
   "source": [
    "A = [1,5,10,15,20]"
   ]
  },
  {
   "cell_type": "code",
   "execution_count": 11,
   "id": "4aabeeae-c973-4d59-8a57-cd2a465aef5f",
   "metadata": {},
   "outputs": [],
   "source": [
    "from sklearn.preprocessing import MinMaxScaler"
   ]
  },
  {
   "cell_type": "code",
   "execution_count": 12,
   "id": "681c3a58-0a39-49d2-a1f2-c3566d8f83a4",
   "metadata": {},
   "outputs": [],
   "source": [
    "scaler = MinMaxScaler()"
   ]
  },
  {
   "cell_type": "code",
   "execution_count": 23,
   "id": "38db325b-e724-4514-b796-47614a321654",
   "metadata": {},
   "outputs": [
    {
     "data": {
      "text/plain": [
       "array([[0., 0., 0., 0., 0.]])"
      ]
     },
     "execution_count": 23,
     "metadata": {},
     "output_type": "execute_result"
    }
   ],
   "source": [
    "scaler.fit_transform([A])"
   ]
  },
  {
   "cell_type": "code",
   "execution_count": 15,
   "id": "fd795df4-a57c-4a69-a2e3-17df39f096f6",
   "metadata": {},
   "outputs": [
    {
     "data": {
      "text/plain": [
       "array([[0., 0., 0., 0., 0.]])"
      ]
     },
     "execution_count": 15,
     "metadata": {},
     "output_type": "execute_result"
    }
   ],
   "source": [
    "scaler.transform([A])"
   ]
  },
  {
   "cell_type": "code",
   "execution_count": 24,
   "id": "5faaba4c-60dd-426e-b2d7-de6a45166a75",
   "metadata": {},
   "outputs": [],
   "source": [
    "scaler = MinMaxScaler()"
   ]
  },
  {
   "cell_type": "code",
   "execution_count": 26,
   "id": "5214a1fd-36ab-4b5b-8a6c-5adf12e2514d",
   "metadata": {},
   "outputs": [
    {
     "data": {
      "text/plain": [
       "list"
      ]
     },
     "execution_count": 26,
     "metadata": {},
     "output_type": "execute_result"
    }
   ],
   "source": [
    "type(A)"
   ]
  },
  {
   "cell_type": "code",
   "execution_count": 27,
   "id": "e639a842-34d1-4a9b-ab8d-fd7820bb3408",
   "metadata": {},
   "outputs": [
    {
     "data": {
      "text/plain": [
       "array([[0., 0., 0., 0., 0.]])"
      ]
     },
     "execution_count": 27,
     "metadata": {},
     "output_type": "execute_result"
    }
   ],
   "source": [
    "df scaler.fit_transform([A])"
   ]
  },
  {
   "cell_type": "code",
   "execution_count": null,
   "id": "b10010fc-2f53-447a-bcfd-536867d959ea",
   "metadata": {},
   "outputs": [],
   "source": []
  }
 ],
 "metadata": {
  "kernelspec": {
   "display_name": "Python 3 (ipykernel)",
   "language": "python",
   "name": "python3"
  },
  "language_info": {
   "codemirror_mode": {
    "name": "ipython",
    "version": 3
   },
   "file_extension": ".py",
   "mimetype": "text/x-python",
   "name": "python",
   "nbconvert_exporter": "python",
   "pygments_lexer": "ipython3",
   "version": "3.11.7"
  }
 },
 "nbformat": 4,
 "nbformat_minor": 5
}
