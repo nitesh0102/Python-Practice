{
 "cells": [
  {
   "cell_type": "code",
   "execution_count": null,
   "id": "602f9ec0-435b-41ff-a63d-b7d5f7f50e7f",
   "metadata": {},
   "outputs": [],
   "source": [
    "#Q1"
   ]
  },
  {
   "cell_type": "code",
   "execution_count": 1,
   "id": "e40e87bc-d19b-4e04-bc32-790baaf28298",
   "metadata": {},
   "outputs": [],
   "source": [
    "a = [2,3,4,5,6,7]"
   ]
  },
  {
   "cell_type": "code",
   "execution_count": 2,
   "id": "4efca8f7-b0e3-4f97-8e58-aa50cafd543f",
   "metadata": {},
   "outputs": [
    {
     "data": {
      "text/plain": [
       "list"
      ]
     },
     "execution_count": 2,
     "metadata": {},
     "output_type": "execute_result"
    }
   ],
   "source": [
    "type(a)"
   ]
  },
  {
   "cell_type": "code",
   "execution_count": 3,
   "id": "19c1fc65-3688-47e9-abf0-e52562117e9a",
   "metadata": {},
   "outputs": [],
   "source": [
    "a.append('mango')"
   ]
  },
  {
   "cell_type": "code",
   "execution_count": 4,
   "id": "01981978-45b8-4800-af4e-52e97325236d",
   "metadata": {},
   "outputs": [
    {
     "data": {
      "text/plain": [
       "[2, 3, 4, 5, 6, 7, 'mango']"
      ]
     },
     "execution_count": 4,
     "metadata": {},
     "output_type": "execute_result"
    }
   ],
   "source": [
    "a"
   ]
  },
  {
   "cell_type": "code",
   "execution_count": 8,
   "id": "0ff9679a-3a3e-428d-b442-2a1313e318f0",
   "metadata": {},
   "outputs": [],
   "source": [
    "b = [\"banana\",\"grapes\",\"oranges\"]"
   ]
  },
  {
   "cell_type": "code",
   "execution_count": 10,
   "id": "1a1edc2c-4d91-4f4b-a3c2-e7c2efb801ce",
   "metadata": {},
   "outputs": [],
   "source": [
    "a=a+b"
   ]
  },
  {
   "cell_type": "code",
   "execution_count": 11,
   "id": "0a900dc1-fdc5-4bfd-ae3b-dd7535c6648e",
   "metadata": {},
   "outputs": [],
   "source": [
    "a[5] = 'apple'"
   ]
  },
  {
   "cell_type": "code",
   "execution_count": 12,
   "id": "ab2c5ef7-e0f5-4b80-97c7-107fa5585ac6",
   "metadata": {},
   "outputs": [
    {
     "data": {
      "text/plain": [
       "[2, 3, 4, 5, 6, 'apple', 'mango', 'banana', 'grapes', 'oranges']"
      ]
     },
     "execution_count": 12,
     "metadata": {},
     "output_type": "execute_result"
    }
   ],
   "source": [
    "a"
   ]
  },
  {
   "cell_type": "code",
   "execution_count": 13,
   "id": "a553c80f-8eff-471a-980d-789d97d3f5e4",
   "metadata": {},
   "outputs": [
    {
     "data": {
      "text/plain": [
       "'oranges'"
      ]
     },
     "execution_count": 13,
     "metadata": {},
     "output_type": "execute_result"
    }
   ],
   "source": [
    "a.pop()"
   ]
  },
  {
   "cell_type": "code",
   "execution_count": 14,
   "id": "ff2e811b-5645-48ba-b25b-aec92ecc4d91",
   "metadata": {},
   "outputs": [
    {
     "data": {
      "text/plain": [
       "[2, 3, 4, 5, 6, 'apple', 'mango', 'banana', 'grapes']"
      ]
     },
     "execution_count": 14,
     "metadata": {},
     "output_type": "execute_result"
    }
   ],
   "source": [
    "a"
   ]
  },
  {
   "cell_type": "code",
   "execution_count": 15,
   "id": "9817a431-ea8f-4d3d-a49b-b7969b378b84",
   "metadata": {},
   "outputs": [],
   "source": [
    "#Q2\n"
   ]
  },
  {
   "cell_type": "code",
   "execution_count": 31,
   "id": "ab2b4770-bd82-4f66-86cc-5865bbbe8e57",
   "metadata": {},
   "outputs": [],
   "source": [
    "L = [1,2,3,4,5,6,7]"
   ]
  },
  {
   "cell_type": "code",
   "execution_count": 18,
   "id": "073a5153-d81f-46b0-b634-653fc6b10e87",
   "metadata": {},
   "outputs": [
    {
     "data": {
      "text/plain": [
       "[2, 3, 4]"
      ]
     },
     "execution_count": 18,
     "metadata": {},
     "output_type": "execute_result"
    }
   ],
   "source": [
    "L[1:4]"
   ]
  },
  {
   "cell_type": "code",
   "execution_count": 19,
   "id": "a2c35f4b-717e-4c7e-a505-0cec14c9493f",
   "metadata": {},
   "outputs": [],
   "source": [
    "#Q3"
   ]
  },
  {
   "cell_type": "code",
   "execution_count": 32,
   "id": "acdff8e4-ddfe-4431-9857-1c3659327511",
   "metadata": {},
   "outputs": [],
   "source": [
    "l1 = L.reverse()"
   ]
  },
  {
   "cell_type": "code",
   "execution_count": 28,
   "id": "d3c9d894-d19e-49b3-98f7-080e3633ef5c",
   "metadata": {},
   "outputs": [
    {
     "data": {
      "text/plain": [
       "list"
      ]
     },
     "execution_count": 28,
     "metadata": {},
     "output_type": "execute_result"
    }
   ],
   "source": [
    "type(L)"
   ]
  },
  {
   "cell_type": "code",
   "execution_count": 29,
   "id": "5530de79-2486-4d7b-9871-e5306fb4e6e9",
   "metadata": {},
   "outputs": [
    {
     "name": "stdout",
     "output_type": "stream",
     "text": [
      "[3, 8, 6, 5, 4]\n"
     ]
    }
   ],
   "source": [
    "#Q4"
   ]
  },
  {
   "cell_type": "code",
   "execution_count": 35,
   "id": "44e166bf-e457-4c61-92e9-16d841740336",
   "metadata": {},
   "outputs": [],
   "source": [
    "l_Sq = [a**2 for a in L]"
   ]
  },
  {
   "cell_type": "code",
   "execution_count": 36,
   "id": "57ab53a8-6642-4f8c-99a2-97f61f66e772",
   "metadata": {},
   "outputs": [
    {
     "data": {
      "text/plain": [
       "[49, 36, 25, 16, 9, 4, 1]"
      ]
     },
     "execution_count": 36,
     "metadata": {},
     "output_type": "execute_result"
    }
   ],
   "source": [
    "l_Sq"
   ]
  },
  {
   "cell_type": "code",
   "execution_count": 40,
   "id": "b9536426-4c59-4328-a604-45a75c6e0a5b",
   "metadata": {},
   "outputs": [],
   "source": [
    "t = (1,2,3,4,5)"
   ]
  },
  {
   "cell_type": "code",
   "execution_count": 41,
   "id": "0a1f3615-04a5-4963-bf54-976700116cd8",
   "metadata": {},
   "outputs": [],
   "source": [
    "def sum_of_tuple(x):\n",
    "    return sum(x)"
   ]
  },
  {
   "cell_type": "code",
   "execution_count": 42,
   "id": "25e43b0b-a94e-47b5-ba3a-bdef7dcdec5a",
   "metadata": {},
   "outputs": [
    {
     "data": {
      "text/plain": [
       "15"
      ]
     },
     "execution_count": 42,
     "metadata": {},
     "output_type": "execute_result"
    }
   ],
   "source": [
    "sum_of_tuple(t)"
   ]
  },
  {
   "cell_type": "code",
   "execution_count": 43,
   "id": "83d920af-08e7-4788-aee0-4ebd927f8257",
   "metadata": {},
   "outputs": [],
   "source": [
    "fruit1 = {\"banana\",\"mango\"}\n",
    "fruit2 = {\"litchee\",\"orange\"}"
   ]
  },
  {
   "cell_type": "code",
   "execution_count": 46,
   "id": "b2dd82bc-7c4a-4755-93ea-0d40fc088e8c",
   "metadata": {},
   "outputs": [],
   "source": [
    "fruit3 = fruit1.union(fruit2)"
   ]
  },
  {
   "cell_type": "code",
   "execution_count": 48,
   "id": "2e4a1585-6d00-4516-a348-2296bfc1779a",
   "metadata": {},
   "outputs": [
    {
     "data": {
      "text/plain": [
       "{'banana', 'litchee', 'mango', 'orange'}"
      ]
     },
     "execution_count": 48,
     "metadata": {},
     "output_type": "execute_result"
    }
   ],
   "source": [
    "fruit3"
   ]
  },
  {
   "cell_type": "code",
   "execution_count": 50,
   "id": "d24e2386-20f6-48df-860b-e629fe0175ea",
   "metadata": {},
   "outputs": [],
   "source": [
    "fruit1.add(\"papaya\")"
   ]
  },
  {
   "cell_type": "code",
   "execution_count": 52,
   "id": "83d3b302-8b01-4f54-867e-7db523e318de",
   "metadata": {},
   "outputs": [
    {
     "data": {
      "text/plain": [
       "{'banana', 'mango', 'papaya'}"
      ]
     },
     "execution_count": 52,
     "metadata": {},
     "output_type": "execute_result"
    }
   ],
   "source": [
    "fruit1"
   ]
  },
  {
   "cell_type": "code",
   "execution_count": 54,
   "id": "21a13609-1a22-4584-bb25-774da14735d2",
   "metadata": {},
   "outputs": [],
   "source": [
    "fruit1.remove(\"banana\")"
   ]
  },
  {
   "cell_type": "code",
   "execution_count": 55,
   "id": "71b28b46-009e-44ab-aa16-0446a63abf02",
   "metadata": {},
   "outputs": [
    {
     "data": {
      "text/plain": [
       "{'mango', 'papaya'}"
      ]
     },
     "execution_count": 55,
     "metadata": {},
     "output_type": "execute_result"
    }
   ],
   "source": [
    "fruit1"
   ]
  },
  {
   "cell_type": "code",
   "execution_count": 62,
   "id": "2564c629-56d4-46c2-9f5f-140099294398",
   "metadata": {},
   "outputs": [],
   "source": [
    "favorite_books = {\"1984\", \"To Kill a Mockingbird\", \"Pride and Prejudice\"}\n",
    "favorite_movies = [\"The Shawshank Redemption\", \"The Godfather\", \"The Dark Knight\"]"
   ]
  },
  {
   "cell_type": "code",
   "execution_count": 75,
   "id": "0d65d84b-bc02-4d4b-8da2-86e826db125f",
   "metadata": {},
   "outputs": [],
   "source": [
    "book_movie_pair = list(zip(favorite_books,favorite_movies))"
   ]
  },
  {
   "cell_type": "code",
   "execution_count": 76,
   "id": "31faf67a-0f4e-46f9-9da0-d10b63eb47a2",
   "metadata": {},
   "outputs": [
    {
     "data": {
      "text/plain": [
       "[('Pride and Prejudice', 'The Shawshank Redemption'),\n",
       " ('1984', 'The Godfather'),\n",
       " ('To Kill a Mockingbird', 'The Dark Knight')]"
      ]
     },
     "execution_count": 76,
     "metadata": {},
     "output_type": "execute_result"
    }
   ],
   "source": [
    "book_movie_pair\n",
    "    "
   ]
  },
  {
   "cell_type": "code",
   "execution_count": 77,
   "id": "b112532e-8e5e-4505-9c86-4a2c87d77fbd",
   "metadata": {},
   "outputs": [
    {
     "ename": "NameError",
     "evalue": "name 'Q10' is not defined",
     "output_type": "error",
     "traceback": [
      "\u001b[1;31m---------------------------------------------------------------------------\u001b[0m",
      "\u001b[1;31mNameError\u001b[0m                                 Traceback (most recent call last)",
      "Cell \u001b[1;32mIn[77], line 1\u001b[0m\n\u001b[1;32m----> 1\u001b[0m Q10\n",
      "\u001b[1;31mNameError\u001b[0m: name 'Q10' is not defined"
     ]
    }
   ],
   "source": [
    "#Q10"
   ]
  },
  {
   "cell_type": "code",
   "execution_count": 79,
   "id": "c1c1fdad-e961-43b9-b5b1-70572c5341ab",
   "metadata": {},
   "outputs": [],
   "source": [
    "def find_diff_consecutive_numbers(lst):\n",
    "    diffs = []\n",
    "    for i in range(1, len(lst)):\n",
    "        diff = lst[i] - lst[i-1]\n",
    "        diffs.append(diff)\n",
    "    return diffs"
   ]
  },
  {
   "cell_type": "code",
   "execution_count": 80,
   "id": "f7735dc4-7537-46f8-a966-d8b220620143",
   "metadata": {},
   "outputs": [
    {
     "name": "stdout",
     "output_type": "stream",
     "text": [
      "[4, 3, 6, 4]\n"
     ]
    }
   ],
   "source": [
    "my_list = [5, 9, 12, 18, 22]\n",
    "diffs = find_diff_consecutive_numbers(my_list)\n",
    "print(diffs) \n"
   ]
  },
  {
   "cell_type": "code",
   "execution_count": null,
   "id": "99ea03f2-ca3a-4ddb-92bc-ede8f35dcf80",
   "metadata": {},
   "outputs": [],
   "source": []
  }
 ],
 "metadata": {
  "kernelspec": {
   "display_name": "Python 3 (ipykernel)",
   "language": "python",
   "name": "python3"
  },
  "language_info": {
   "codemirror_mode": {
    "name": "ipython",
    "version": 3
   },
   "file_extension": ".py",
   "mimetype": "text/x-python",
   "name": "python",
   "nbconvert_exporter": "python",
   "pygments_lexer": "ipython3",
   "version": "3.11.7"
  }
 },
 "nbformat": 4,
 "nbformat_minor": 5
}
