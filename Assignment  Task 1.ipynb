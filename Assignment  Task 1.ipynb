{
 "cells": [
  {
   "cell_type": "code",
   "execution_count": 1,
   "id": "00623c44-6bb0-44c3-9c0b-596cd6eb5766",
   "metadata": {},
   "outputs": [],
   "source": [
    "list1 = [1,2,3,4, [44,55,66, True], False, (34,56,78,89,34), {1,2,3,3,2,1}, {1:34, \"key2\": [55, 67, 78, 89], 4: (45,\n",
    "22, 61, 34)}, [56, 'data science'], 'Machine Learning']"
   ]
  },
  {
   "cell_type": "code",
   "execution_count": 6,
   "id": "f5478499-62de-4fb6-88e3-fed120787a6d",
   "metadata": {},
   "outputs": [],
   "source": [
    "def flat_list_function(list):\n",
    "    \n",
    "    flat = []\n",
    "    for row in list():\n",
    "        flat.extend(row)\n",
    "        return flat\n",
    "        "
   ]
  },
  {
   "cell_type": "code",
   "execution_count": 7,
   "id": "1db4a033-829f-47bd-8616-411402bd566d",
   "metadata": {},
   "outputs": [
    {
     "ename": "TypeError",
     "evalue": "'list' object is not callable",
     "output_type": "error",
     "traceback": [
      "\u001b[1;31m---------------------------------------------------------------------------\u001b[0m",
      "\u001b[1;31mTypeError\u001b[0m                                 Traceback (most recent call last)",
      "Cell \u001b[1;32mIn[7], line 1\u001b[0m\n\u001b[1;32m----> 1\u001b[0m flat_list_function(list1)\n",
      "Cell \u001b[1;32mIn[6], line 3\u001b[0m, in \u001b[0;36mflat_list_function\u001b[1;34m(list)\u001b[0m\n\u001b[0;32m      1\u001b[0m \u001b[38;5;28;01mdef\u001b[39;00m \u001b[38;5;21mflat_list_function\u001b[39m(\u001b[38;5;28mlist\u001b[39m):\n\u001b[0;32m      2\u001b[0m     flat \u001b[38;5;241m=\u001b[39m []\n\u001b[1;32m----> 3\u001b[0m     \u001b[38;5;28;01mfor\u001b[39;00m row \u001b[38;5;129;01min\u001b[39;00m \u001b[38;5;28mlist\u001b[39m():\n\u001b[0;32m      4\u001b[0m         flat\u001b[38;5;241m.\u001b[39mextend(row)\n\u001b[0;32m      5\u001b[0m         \u001b[38;5;28;01mreturn\u001b[39;00m flat\n",
      "\u001b[1;31mTypeError\u001b[0m: 'list' object is not callable"
     ]
    }
   ],
   "source": [
    "flat_list_function(list1)"
   ]
  },
  {
   "cell_type": "code",
   "execution_count": 8,
   "id": "527f3550-7553-464b-a435-0c08faabeec6",
   "metadata": {},
   "outputs": [],
   "source": [
    ">>> def flatten_extend(matrix):\n",
    "...     flat_list = []\n",
    "...     for row in matrix:\n",
    "...         flat_list.extend(row)\n",
    "...     return flat_list\n",
    "..."
   ]
  },
  {
   "cell_type": "code",
   "execution_count": 9,
   "id": "4a054522-bab0-47fe-b87d-d8f1dd9c99e2",
   "metadata": {},
   "outputs": [
    {
     "ename": "TypeError",
     "evalue": "'int' object is not iterable",
     "output_type": "error",
     "traceback": [
      "\u001b[1;31m---------------------------------------------------------------------------\u001b[0m",
      "\u001b[1;31mTypeError\u001b[0m                                 Traceback (most recent call last)",
      "Cell \u001b[1;32mIn[9], line 1\u001b[0m\n\u001b[1;32m----> 1\u001b[0m flatten_extend(list1)\n",
      "Cell \u001b[1;32mIn[8], line 4\u001b[0m, in \u001b[0;36mflatten_extend\u001b[1;34m(matrix)\u001b[0m\n\u001b[0;32m      2\u001b[0m flat_list \u001b[38;5;241m=\u001b[39m []\n\u001b[0;32m      3\u001b[0m \u001b[38;5;28;01mfor\u001b[39;00m row \u001b[38;5;129;01min\u001b[39;00m matrix:\n\u001b[1;32m----> 4\u001b[0m     flat_list\u001b[38;5;241m.\u001b[39mextend(row)\n\u001b[0;32m      5\u001b[0m \u001b[38;5;28;01mreturn\u001b[39;00m flat_list\n",
      "\u001b[1;31mTypeError\u001b[0m: 'int' object is not iterable"
     ]
    }
   ],
   "source": [
    "flatten_extend(list1)"
   ]
  },
  {
   "cell_type": "code",
   "execution_count": 13,
   "id": "a24f6c4e-1dcd-4240-8970-d3f69ef1a820",
   "metadata": {},
   "outputs": [],
   "source": [
    "dict = {'name': ('nitesh','suresh','ramesh'), 'class':(4,5,6),4:(1,2,3)}"
   ]
  },
  {
   "cell_type": "code",
   "execution_count": 27,
   "id": "03e45217-2916-4aff-a9a9-b64454d57e41",
   "metadata": {},
   "outputs": [
    {
     "data": {
      "text/plain": [
       "dict"
      ]
     },
     "execution_count": 27,
     "metadata": {},
     "output_type": "execute_result"
    }
   ],
   "source": [
    "type(dict)"
   ]
  },
  {
   "cell_type": "code",
   "execution_count": 15,
   "id": "843d68f4-2f9b-4ef8-9cf2-183ec8657ec8",
   "metadata": {},
   "outputs": [
    {
     "data": {
      "text/plain": [
       "dict_keys(['name', 'class', 4])"
      ]
     },
     "execution_count": 15,
     "metadata": {},
     "output_type": "execute_result"
    }
   ],
   "source": [
    "dict.keys()"
   ]
  },
  {
   "cell_type": "code",
   "execution_count": 16,
   "id": "c06ef1ea-6695-40eb-bcb4-2079f7b990aa",
   "metadata": {},
   "outputs": [
    {
     "data": {
      "text/plain": [
       "dict_values([('nitesh', 'suresh', 'ramesh'), (4, 5, 6), (1, 2, 3)])"
      ]
     },
     "execution_count": 16,
     "metadata": {},
     "output_type": "execute_result"
    }
   ],
   "source": [
    "dict.values()"
   ]
  },
  {
   "cell_type": "code",
   "execution_count": 17,
   "id": "3c0b177c-ce6b-4957-a24b-36934a9937d0",
   "metadata": {},
   "outputs": [
    {
     "name": "stdout",
     "output_type": "stream",
     "text": [
      "('nitesh', 'suresh', 'ramesh')\n",
      "(4, 5, 6)\n",
      "(1, 2, 3)\n"
     ]
    }
   ],
   "source": [
    "[i for i in dict.values():\n",
    "    print(i)"
   ]
  },
  {
   "cell_type": "code",
   "execution_count": 18,
   "id": "a94c75c7-bccd-4091-ac73-afc011899edc",
   "metadata": {},
   "outputs": [
    {
     "data": {
      "text/plain": [
       "[('nitesh', 'suresh', 'ramesh'), (4, 5, 6), (1, 2, 3)]"
      ]
     },
     "execution_count": 18,
     "metadata": {},
     "output_type": "execute_result"
    }
   ],
   "source": [
    "[i for i in dict.values()]"
   ]
  },
  {
   "cell_type": "code",
   "execution_count": 19,
   "id": "8dcd3cb1-3449-4107-ad76-7d5f3aa77156",
   "metadata": {},
   "outputs": [],
   "source": [
    "list1 = [1,2,3,4, [44,55,66, True], False, (34,56,78,89,34), {1,2,3,3,2,1}, {1:34, \"key2\": [55, 67, 78, 89], 4: (45,\n",
    "22, 61, 34)}, [56, 'data science'], 'Machine Learning']"
   ]
  },
  {
   "cell_type": "code",
   "execution_count": 24,
   "id": "a7c3df70-3302-475f-bc86-aaad181bcb1a",
   "metadata": {},
   "outputs": [],
   "source": [
    "x  = [i for i in list1]"
   ]
  },
  {
   "cell_type": "code",
   "execution_count": 25,
   "id": "afb1b510-d79c-4634-8f6a-f21a66044cdc",
   "metadata": {},
   "outputs": [
    {
     "data": {
      "text/plain": [
       "[1,\n",
       " 2,\n",
       " 3,\n",
       " 4,\n",
       " [44, 55, 66, True],\n",
       " False,\n",
       " (34, 56, 78, 89, 34),\n",
       " {1, 2, 3},\n",
       " {1: 34, 'key2': [55, 67, 78, 89], 4: (45, 22, 61, 34)},\n",
       " [56, 'data science'],\n",
       " 'Machine Learning']"
      ]
     },
     "execution_count": 25,
     "metadata": {},
     "output_type": "execute_result"
    }
   ],
   "source": [
    "x"
   ]
  },
  {
   "cell_type": "code",
   "execution_count": 33,
   "id": "a8d6dd85-5dcb-4453-accf-205c480b86b6",
   "metadata": {},
   "outputs": [
    {
     "data": {
      "text/plain": [
       "list"
      ]
     },
     "execution_count": 33,
     "metadata": {},
     "output_type": "execute_result"
    }
   ],
   "source": [
    "type(list1)"
   ]
  },
  {
   "cell_type": "code",
   "execution_count": 54,
   "id": "973481bd-918b-409c-ada9-ea5a1b0df890",
   "metadata": {},
   "outputs": [],
   "source": [
    "new_list = []\n",
    "for i in list1:\n",
    "    if(type(i) == dict):\n",
    "        new_list.append(i.values())\n",
    "        new_list.append(i.keys())\n",
    "    elif(type(i) == int):\n",
    "        new_list.append(i)\n",
    "    elif(type(i) == str):\n",
    "        new_list.append(i)\n",
    "    elif(type(i) == list):\n",
    "        for j in i:\n",
    "            if(type(j) == dict):\n",
    "                new_list.append(j.values())\n",
    "                new_list.append(j.keys())\n",
    "            elif(type(j) == int):\n",
    "                new_list.append(j)\n",
    "            elif(type(j) == str):\n",
    "                new_list.append(j)\n",
    "    elif(type(i) == set):\n",
    "        new_list.append(i)\n",
    "        "
   ]
  },
  {
   "cell_type": "code",
   "execution_count": 55,
   "id": "c0bf987b-754d-4381-b352-27b8169afcf1",
   "metadata": {},
   "outputs": [
    {
     "data": {
      "text/plain": [
       "[1, 2, 3, 4, 44, 55, 66, {1, 2, 3}, 56, 'data science', 'Machine Learning']"
      ]
     },
     "execution_count": 55,
     "metadata": {},
     "output_type": "execute_result"
    }
   ],
   "source": [
    "new_list"
   ]
  },
  {
   "cell_type": "code",
   "execution_count": 36,
   "id": "61ca6d11-44e7-4c2b-8b47-3352a4d35495",
   "metadata": {},
   "outputs": [
    {
     "data": {
      "text/plain": [
       "str"
      ]
     },
     "execution_count": 36,
     "metadata": {},
     "output_type": "execute_result"
    }
   ],
   "source": [
    "s = 'dsd'\n",
    "type(s)"
   ]
  },
  {
   "cell_type": "code",
   "execution_count": 76,
   "id": "c2aef04f-7c21-4e2c-8ede-a58fca79b06b",
   "metadata": {},
   "outputs": [
    {
     "name": "stdout",
     "output_type": "stream",
     "text": [
      "<class 'int'>\n",
      "1\n",
      "<class 'int'>\n",
      "2\n",
      "<class 'int'>\n",
      "3\n",
      "<class 'int'>\n",
      "4\n",
      "<class 'list'>\n",
      "[44, 55, 66, True]\n",
      "<class 'bool'>\n",
      "False\n",
      "<class 'tuple'>\n",
      "(34, 56, 78, 89, 34)\n",
      "<class 'set'>\n",
      "{1, 2, 3}\n",
      "<class 'dict'>\n",
      "{1: 34, 'key2': [55, 67, 78, 89], 4: (45, 22, 61, 34)}\n",
      "<class 'list'>\n",
      "[56, 'data science']\n",
      "<class 'str'>\n",
      "Machine Learning\n"
     ]
    }
   ],
   "source": [
    "for i in list1:\n",
    "    #if(type(i) == dict):\n",
    "        print(type(i))\n",
    "        print(i)\n",
    "        #new_list.append(i.values())\n",
    "        #new_list.append(i.keys())"
   ]
  },
  {
   "cell_type": "code",
   "execution_count": 50,
   "id": "3778576f-b2ef-46b9-b44f-fbb94cbc1223",
   "metadata": {},
   "outputs": [
    {
     "ename": "TypeError",
     "evalue": "can only concatenate list (not \"int\") to list",
     "output_type": "error",
     "traceback": [
      "\u001b[1;31m---------------------------------------------------------------------------\u001b[0m",
      "\u001b[1;31mTypeError\u001b[0m                                 Traceback (most recent call last)",
      "Cell \u001b[1;32mIn[50], line 4\u001b[0m\n\u001b[0;32m      2\u001b[0m \u001b[38;5;28;01mfor\u001b[39;00m i \u001b[38;5;129;01min\u001b[39;00m list1:\n\u001b[0;32m      3\u001b[0m     j \u001b[38;5;241m=\u001b[39m i\n\u001b[1;32m----> 4\u001b[0m     j \u001b[38;5;241m=\u001b[39m j\u001b[38;5;241m+\u001b[39m\u001b[38;5;241m1\u001b[39m\n",
      "\u001b[1;31mTypeError\u001b[0m: can only concatenate list (not \"int\") to list"
     ]
    }
   ],
   "source": []
  },
  {
   "cell_type": "code",
   "execution_count": 51,
   "id": "b4ee068c-6334-4814-8a6e-5db8bff2f820",
   "metadata": {},
   "outputs": [
    {
     "data": {
      "text/plain": [
       "set"
      ]
     },
     "execution_count": 51,
     "metadata": {},
     "output_type": "execute_result"
    }
   ],
   "source": [
    "q = {1,2,3}\n",
    "type(q)"
   ]
  },
  {
   "cell_type": "code",
   "execution_count": 77,
   "id": "caadcd22-4164-4ad9-94d2-e2145526e0e3",
   "metadata": {},
   "outputs": [],
   "source": [
    "#################"
   ]
  },
  {
   "cell_type": "code",
   "execution_count": 78,
   "id": "4f7da94d-e5f8-4de4-afcf-2f1f428dfa8f",
   "metadata": {},
   "outputs": [],
   "source": [
    "#Q2"
   ]
  },
  {
   "cell_type": "code",
   "execution_count": 94,
   "id": "91dc7160-3c4b-4616-89f8-4b9c5b5bbc61",
   "metadata": {},
   "outputs": [],
   "source": [
    "A = [\"a\",\"b\",\"c\",\"d\",\"e\",\"f\",\"g\",\"h\",\"i\",\"j\",\"k\",\"l\",\"m\",\"n\",\"o\",\"p\",\"q\",\"r\",\"s\",\"t\",\"u\",\"v\",\"w\",\"x\",\"y\",\"z\"]\n",
    "#B = A.reverse()"
   ]
  },
  {
   "cell_type": "code",
   "execution_count": 96,
   "id": "9b12a728-e9d7-406e-bcb7-0c6ca1f41f80",
   "metadata": {},
   "outputs": [],
   "source": [
    "B = A.copy()"
   ]
  },
  {
   "cell_type": "code",
   "execution_count": 100,
   "id": "58df855f-74b6-4f76-8f58-a8beecab7887",
   "metadata": {},
   "outputs": [],
   "source": [
    "B.reverse()"
   ]
  },
  {
   "cell_type": "code",
   "execution_count": 102,
   "id": "1856fb65-7a15-492c-9f23-7795681ba6c2",
   "metadata": {},
   "outputs": [],
   "source": [
    "input = \"I want to become a Data Scientist\""
   ]
  },
  {
   "cell_type": "code",
   "execution_count": 104,
   "id": "40c0358e-8525-48b9-9b9d-94359926111e",
   "metadata": {},
   "outputs": [],
   "source": [
    "input = (input).lower()"
   ]
  },
  {
   "cell_type": "code",
   "execution_count": 105,
   "id": "b20f1d3b-d3af-4642-adcf-fd24e18efcbc",
   "metadata": {},
   "outputs": [
    {
     "data": {
      "text/plain": [
       "'i want to become a data scientist'"
      ]
     },
     "execution_count": 105,
     "metadata": {},
     "output_type": "execute_result"
    }
   ],
   "source": [
    "input"
   ]
  },
  {
   "cell_type": "code",
   "execution_count": 165,
   "id": "d59fbf19-569a-49c4-bd2d-a5699a6220f6",
   "metadata": {},
   "outputs": [],
   "source": [
    "\n",
    "def rev_function(A,B,input):\n",
    "    empty_string = ''\n",
    "    for q in input:\n",
    "        #print(q)\n",
    "        for w in range(26):\n",
    "            if(q == A[w]):\n",
    "                empty_string = empty_string + (B[w])\n",
    "        if (q == ' '):\n",
    "            #else:\n",
    "            empty_string =  empty_string + ('$')\n",
    "            #print(empty_string)\n",
    "    return empty_string\n",
    "    "
   ]
  },
  {
   "cell_type": "code",
   "execution_count": 166,
   "id": "484e13cd-217a-4a3d-b584-9d723e7898df",
   "metadata": {},
   "outputs": [
    {
     "data": {
      "text/plain": [
       "'r$dzmg$gl$yvxlnv$z$wzgz$hxrvmgrhg'"
      ]
     },
     "execution_count": 166,
     "metadata": {},
     "output_type": "execute_result"
    }
   ],
   "source": [
    "rev_function(A,B,input)"
   ]
  },
  {
   "cell_type": "code",
   "execution_count": 149,
   "id": "7785e8ea-7986-483e-9161-2fd4c21bffd8",
   "metadata": {},
   "outputs": [
    {
     "data": {
      "text/plain": [
       "''"
      ]
     },
     "execution_count": 149,
     "metadata": {},
     "output_type": "execute_result"
    }
   ],
   "source": [
    "empty_string"
   ]
  },
  {
   "cell_type": "code",
   "execution_count": 134,
   "id": "1ac58de4-028f-4c7c-83c3-86331127ee82",
   "metadata": {},
   "outputs": [
    {
     "ename": "TypeError",
     "evalue": "concat() takes 1 positional argument but 2 were given",
     "output_type": "error",
     "traceback": [
      "\u001b[1;31m---------------------------------------------------------------------------\u001b[0m",
      "\u001b[1;31mTypeError\u001b[0m                                 Traceback (most recent call last)",
      "Cell \u001b[1;32mIn[134], line 2\u001b[0m\n\u001b[0;32m      1\u001b[0m \u001b[38;5;28;01mimport\u001b[39;00m \u001b[38;5;21;01mpandas\u001b[39;00m \u001b[38;5;28;01mas\u001b[39;00m \u001b[38;5;21;01mpd\u001b[39;00m\n\u001b[1;32m----> 2\u001b[0m pd\u001b[38;5;241m.\u001b[39mconcat(empty_string1,\u001b[38;5;124m\"\u001b[39m\u001b[38;5;124mA\u001b[39m\u001b[38;5;124m\"\u001b[39m)\n",
      "\u001b[1;31mTypeError\u001b[0m: concat() takes 1 positional argument but 2 were given"
     ]
    }
   ],
   "source": [
    "import pandas as pd\n",
    "pd.concat(empty_string1,\"A\")"
   ]
  },
  {
   "cell_type": "code",
   "execution_count": 140,
   "id": "c993f2b3-2ed6-445e-83e0-e9853dbda544",
   "metadata": {},
   "outputs": [
    {
     "data": {
      "text/plain": [
       "'fg '"
      ]
     },
     "execution_count": 140,
     "metadata": {},
     "output_type": "execute_result"
    }
   ],
   "source": [
    "A[5] + A[6] + empty_string2"
   ]
  },
  {
   "cell_type": "code",
   "execution_count": 139,
   "id": "5be36703-d8e0-4b9a-a782-0b99de8ae2a4",
   "metadata": {},
   "outputs": [],
   "source": [
    "empty_string2 = ' '"
   ]
  },
  {
   "cell_type": "code",
   "execution_count": 114,
   "id": "c3dd9168-a6cf-4b25-a178-2898c7e44e70",
   "metadata": {},
   "outputs": [
    {
     "name": "stdout",
     "output_type": "stream",
     "text": [
      "a\n",
      "b\n",
      "c\n",
      "d\n",
      "e\n",
      "f\n",
      "g\n",
      "h\n",
      "i\n",
      "j\n",
      "k\n",
      "l\n",
      "m\n",
      "n\n",
      "o\n",
      "p\n",
      "q\n",
      "r\n",
      "s\n",
      "t\n",
      "u\n",
      "v\n",
      "w\n",
      "x\n",
      "y\n",
      "z\n"
     ]
    }
   ],
   "source": [
    "        for w in range(26):\n",
    "            print(A[w])"
   ]
  },
  {
   "cell_type": "code",
   "execution_count": 115,
   "id": "115c7210-733c-422d-9fb9-82e584d05798",
   "metadata": {},
   "outputs": [
    {
     "name": "stdout",
     "output_type": "stream",
     "text": [
      "i\n",
      " \n",
      "w\n",
      "a\n",
      "n\n",
      "t\n",
      " \n",
      "t\n",
      "o\n",
      " \n",
      "b\n",
      "e\n",
      "c\n",
      "o\n",
      "m\n",
      "e\n",
      " \n",
      "a\n",
      " \n",
      "d\n",
      "a\n",
      "t\n",
      "a\n",
      " \n",
      "s\n",
      "c\n",
      "i\n",
      "e\n",
      "n\n",
      "t\n",
      "i\n",
      "s\n",
      "t\n"
     ]
    }
   ],
   "source": [
    "for q in input: \n",
    "    print(q)"
   ]
  },
  {
   "cell_type": "code",
   "execution_count": null,
   "id": "86b26cde-5c4a-4437-b860-ac52b05a7dca",
   "metadata": {},
   "outputs": [],
   "source": []
  }
 ],
 "metadata": {
  "kernelspec": {
   "display_name": "Python 3 (ipykernel)",
   "language": "python",
   "name": "python3"
  },
  "language_info": {
   "codemirror_mode": {
    "name": "ipython",
    "version": 3
   },
   "file_extension": ".py",
   "mimetype": "text/x-python",
   "name": "python",
   "nbconvert_exporter": "python",
   "pygments_lexer": "ipython3",
   "version": "3.11.7"
  }
 },
 "nbformat": 4,
 "nbformat_minor": 5
}
